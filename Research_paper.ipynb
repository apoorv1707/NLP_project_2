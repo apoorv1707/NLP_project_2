{
  "nbformat": 4,
  "nbformat_minor": 0,
  "metadata": {
    "colab": {
      "name": "Research_paper.ipynb",
      "provenance": [],
      "collapsed_sections": []
    },
    "kernelspec": {
      "name": "python3",
      "display_name": "Python 3"
    },
    "language_info": {
      "name": "python"
    }
  },
  "cells": [
    {
      "cell_type": "code",
      "execution_count": 1,
      "metadata": {
        "colab": {
          "base_uri": "https://localhost:8080/"
        },
        "id": "vj72bjbtEkpF",
        "outputId": "72a32005-977f-4fdd-c0f2-3b79268d17c6"
      },
      "outputs": [
        {
          "output_type": "stream",
          "name": "stdout",
          "text": [
            "Drive already mounted at /content/drive; to attempt to forcibly remount, call drive.mount(\"/content/drive\", force_remount=True).\n"
          ]
        }
      ],
      "source": [
        "from google.colab import drive\n",
        "drive.mount('/content/drive')"
      ]
    },
    {
      "cell_type": "code",
      "source": [
        "import pandas as pd\n",
        "import numpy as np"
      ],
      "metadata": {
        "id": "pWYVWE_uEsSl"
      },
      "execution_count": 2,
      "outputs": []
    },
    {
      "cell_type": "code",
      "source": [
        "#Dataset link: https://www.kaggle.com/datasets/venky73/spam-mails-dataset?select=spam_ham_dataset.csv\n",
        "spam_df = pd.read_csv('/content/drive/My Drive/NLP_research/spam.csv')\n",
        "spam_df.head()"
      ],
      "metadata": {
        "colab": {
          "base_uri": "https://localhost:8080/",
          "height": 206
        },
        "id": "MDkVy21pEvRL",
        "outputId": "13725ea7-149b-49cd-83f6-7e1afdd06b8f"
      },
      "execution_count": 3,
      "outputs": [
        {
          "output_type": "execute_result",
          "data": {
            "text/plain": [
              "   Unnamed: 0 label                                               text  \\\n",
              "0         605   ham  Subject: enron methanol ; meter # : 988291\\r\\n...   \n",
              "1        2349   ham  Subject: hpl nom for january 9 , 2001\\r\\n( see...   \n",
              "2        3624   ham  Subject: neon retreat\\r\\nho ho ho , we ' re ar...   \n",
              "3        4685  spam  Subject: photoshop , windows , office . cheap ...   \n",
              "4        2030   ham  Subject: re : indian springs\\r\\nthis deal is t...   \n",
              "\n",
              "   label_num  \n",
              "0          0  \n",
              "1          0  \n",
              "2          0  \n",
              "3          1  \n",
              "4          0  "
            ],
            "text/html": [
              "\n",
              "  <div id=\"df-6c89cc19-045a-46d6-8312-a0ce1372960b\">\n",
              "    <div class=\"colab-df-container\">\n",
              "      <div>\n",
              "<style scoped>\n",
              "    .dataframe tbody tr th:only-of-type {\n",
              "        vertical-align: middle;\n",
              "    }\n",
              "\n",
              "    .dataframe tbody tr th {\n",
              "        vertical-align: top;\n",
              "    }\n",
              "\n",
              "    .dataframe thead th {\n",
              "        text-align: right;\n",
              "    }\n",
              "</style>\n",
              "<table border=\"1\" class=\"dataframe\">\n",
              "  <thead>\n",
              "    <tr style=\"text-align: right;\">\n",
              "      <th></th>\n",
              "      <th>Unnamed: 0</th>\n",
              "      <th>label</th>\n",
              "      <th>text</th>\n",
              "      <th>label_num</th>\n",
              "    </tr>\n",
              "  </thead>\n",
              "  <tbody>\n",
              "    <tr>\n",
              "      <th>0</th>\n",
              "      <td>605</td>\n",
              "      <td>ham</td>\n",
              "      <td>Subject: enron methanol ; meter # : 988291\\r\\n...</td>\n",
              "      <td>0</td>\n",
              "    </tr>\n",
              "    <tr>\n",
              "      <th>1</th>\n",
              "      <td>2349</td>\n",
              "      <td>ham</td>\n",
              "      <td>Subject: hpl nom for january 9 , 2001\\r\\n( see...</td>\n",
              "      <td>0</td>\n",
              "    </tr>\n",
              "    <tr>\n",
              "      <th>2</th>\n",
              "      <td>3624</td>\n",
              "      <td>ham</td>\n",
              "      <td>Subject: neon retreat\\r\\nho ho ho , we ' re ar...</td>\n",
              "      <td>0</td>\n",
              "    </tr>\n",
              "    <tr>\n",
              "      <th>3</th>\n",
              "      <td>4685</td>\n",
              "      <td>spam</td>\n",
              "      <td>Subject: photoshop , windows , office . cheap ...</td>\n",
              "      <td>1</td>\n",
              "    </tr>\n",
              "    <tr>\n",
              "      <th>4</th>\n",
              "      <td>2030</td>\n",
              "      <td>ham</td>\n",
              "      <td>Subject: re : indian springs\\r\\nthis deal is t...</td>\n",
              "      <td>0</td>\n",
              "    </tr>\n",
              "  </tbody>\n",
              "</table>\n",
              "</div>\n",
              "      <button class=\"colab-df-convert\" onclick=\"convertToInteractive('df-6c89cc19-045a-46d6-8312-a0ce1372960b')\"\n",
              "              title=\"Convert this dataframe to an interactive table.\"\n",
              "              style=\"display:none;\">\n",
              "        \n",
              "  <svg xmlns=\"http://www.w3.org/2000/svg\" height=\"24px\"viewBox=\"0 0 24 24\"\n",
              "       width=\"24px\">\n",
              "    <path d=\"M0 0h24v24H0V0z\" fill=\"none\"/>\n",
              "    <path d=\"M18.56 5.44l.94 2.06.94-2.06 2.06-.94-2.06-.94-.94-2.06-.94 2.06-2.06.94zm-11 1L8.5 8.5l.94-2.06 2.06-.94-2.06-.94L8.5 2.5l-.94 2.06-2.06.94zm10 10l.94 2.06.94-2.06 2.06-.94-2.06-.94-.94-2.06-.94 2.06-2.06.94z\"/><path d=\"M17.41 7.96l-1.37-1.37c-.4-.4-.92-.59-1.43-.59-.52 0-1.04.2-1.43.59L10.3 9.45l-7.72 7.72c-.78.78-.78 2.05 0 2.83L4 21.41c.39.39.9.59 1.41.59.51 0 1.02-.2 1.41-.59l7.78-7.78 2.81-2.81c.8-.78.8-2.07 0-2.86zM5.41 20L4 18.59l7.72-7.72 1.47 1.35L5.41 20z\"/>\n",
              "  </svg>\n",
              "      </button>\n",
              "      \n",
              "  <style>\n",
              "    .colab-df-container {\n",
              "      display:flex;\n",
              "      flex-wrap:wrap;\n",
              "      gap: 12px;\n",
              "    }\n",
              "\n",
              "    .colab-df-convert {\n",
              "      background-color: #E8F0FE;\n",
              "      border: none;\n",
              "      border-radius: 50%;\n",
              "      cursor: pointer;\n",
              "      display: none;\n",
              "      fill: #1967D2;\n",
              "      height: 32px;\n",
              "      padding: 0 0 0 0;\n",
              "      width: 32px;\n",
              "    }\n",
              "\n",
              "    .colab-df-convert:hover {\n",
              "      background-color: #E2EBFA;\n",
              "      box-shadow: 0px 1px 2px rgba(60, 64, 67, 0.3), 0px 1px 3px 1px rgba(60, 64, 67, 0.15);\n",
              "      fill: #174EA6;\n",
              "    }\n",
              "\n",
              "    [theme=dark] .colab-df-convert {\n",
              "      background-color: #3B4455;\n",
              "      fill: #D2E3FC;\n",
              "    }\n",
              "\n",
              "    [theme=dark] .colab-df-convert:hover {\n",
              "      background-color: #434B5C;\n",
              "      box-shadow: 0px 1px 3px 1px rgba(0, 0, 0, 0.15);\n",
              "      filter: drop-shadow(0px 1px 2px rgba(0, 0, 0, 0.3));\n",
              "      fill: #FFFFFF;\n",
              "    }\n",
              "  </style>\n",
              "\n",
              "      <script>\n",
              "        const buttonEl =\n",
              "          document.querySelector('#df-6c89cc19-045a-46d6-8312-a0ce1372960b button.colab-df-convert');\n",
              "        buttonEl.style.display =\n",
              "          google.colab.kernel.accessAllowed ? 'block' : 'none';\n",
              "\n",
              "        async function convertToInteractive(key) {\n",
              "          const element = document.querySelector('#df-6c89cc19-045a-46d6-8312-a0ce1372960b');\n",
              "          const dataTable =\n",
              "            await google.colab.kernel.invokeFunction('convertToInteractive',\n",
              "                                                     [key], {});\n",
              "          if (!dataTable) return;\n",
              "\n",
              "          const docLinkHtml = 'Like what you see? Visit the ' +\n",
              "            '<a target=\"_blank\" href=https://colab.research.google.com/notebooks/data_table.ipynb>data table notebook</a>'\n",
              "            + ' to learn more about interactive tables.';\n",
              "          element.innerHTML = '';\n",
              "          dataTable['output_type'] = 'display_data';\n",
              "          await google.colab.output.renderOutput(dataTable, element);\n",
              "          const docLink = document.createElement('div');\n",
              "          docLink.innerHTML = docLinkHtml;\n",
              "          element.appendChild(docLink);\n",
              "        }\n",
              "      </script>\n",
              "    </div>\n",
              "  </div>\n",
              "  "
            ]
          },
          "metadata": {},
          "execution_count": 3
        }
      ]
    },
    {
      "cell_type": "code",
      "source": [
        "#cleaning the text column\n",
        "spam_df['clean_text'] = spam_df['text'].map(lambda name:name.replace('\\n',\". \").replace('\\r',''))"
      ],
      "metadata": {
        "id": "esCWhkAKIOy9"
      },
      "execution_count": 4,
      "outputs": []
    },
    {
      "cell_type": "code",
      "source": [
        "spam_df.head()"
      ],
      "metadata": {
        "colab": {
          "base_uri": "https://localhost:8080/",
          "height": 206
        },
        "id": "bCySYBT9IdyN",
        "outputId": "9e9fd253-2f7d-4b85-93db-b8de4eea73ba"
      },
      "execution_count": 5,
      "outputs": [
        {
          "output_type": "execute_result",
          "data": {
            "text/plain": [
              "   Unnamed: 0 label                                               text  \\\n",
              "0         605   ham  Subject: enron methanol ; meter # : 988291\\r\\n...   \n",
              "1        2349   ham  Subject: hpl nom for january 9 , 2001\\r\\n( see...   \n",
              "2        3624   ham  Subject: neon retreat\\r\\nho ho ho , we ' re ar...   \n",
              "3        4685  spam  Subject: photoshop , windows , office . cheap ...   \n",
              "4        2030   ham  Subject: re : indian springs\\r\\nthis deal is t...   \n",
              "\n",
              "   label_num                                         clean_text  \n",
              "0          0  Subject: enron methanol ; meter # : 988291. th...  \n",
              "1          0  Subject: hpl nom for january 9 , 2001. ( see a...  \n",
              "2          0  Subject: neon retreat. ho ho ho , we ' re arou...  \n",
              "3          1  Subject: photoshop , windows , office . cheap ...  \n",
              "4          0  Subject: re : indian springs. this deal is to ...  "
            ],
            "text/html": [
              "\n",
              "  <div id=\"df-d611808c-5092-4568-8583-7181c07d4fd3\">\n",
              "    <div class=\"colab-df-container\">\n",
              "      <div>\n",
              "<style scoped>\n",
              "    .dataframe tbody tr th:only-of-type {\n",
              "        vertical-align: middle;\n",
              "    }\n",
              "\n",
              "    .dataframe tbody tr th {\n",
              "        vertical-align: top;\n",
              "    }\n",
              "\n",
              "    .dataframe thead th {\n",
              "        text-align: right;\n",
              "    }\n",
              "</style>\n",
              "<table border=\"1\" class=\"dataframe\">\n",
              "  <thead>\n",
              "    <tr style=\"text-align: right;\">\n",
              "      <th></th>\n",
              "      <th>Unnamed: 0</th>\n",
              "      <th>label</th>\n",
              "      <th>text</th>\n",
              "      <th>label_num</th>\n",
              "      <th>clean_text</th>\n",
              "    </tr>\n",
              "  </thead>\n",
              "  <tbody>\n",
              "    <tr>\n",
              "      <th>0</th>\n",
              "      <td>605</td>\n",
              "      <td>ham</td>\n",
              "      <td>Subject: enron methanol ; meter # : 988291\\r\\n...</td>\n",
              "      <td>0</td>\n",
              "      <td>Subject: enron methanol ; meter # : 988291. th...</td>\n",
              "    </tr>\n",
              "    <tr>\n",
              "      <th>1</th>\n",
              "      <td>2349</td>\n",
              "      <td>ham</td>\n",
              "      <td>Subject: hpl nom for january 9 , 2001\\r\\n( see...</td>\n",
              "      <td>0</td>\n",
              "      <td>Subject: hpl nom for january 9 , 2001. ( see a...</td>\n",
              "    </tr>\n",
              "    <tr>\n",
              "      <th>2</th>\n",
              "      <td>3624</td>\n",
              "      <td>ham</td>\n",
              "      <td>Subject: neon retreat\\r\\nho ho ho , we ' re ar...</td>\n",
              "      <td>0</td>\n",
              "      <td>Subject: neon retreat. ho ho ho , we ' re arou...</td>\n",
              "    </tr>\n",
              "    <tr>\n",
              "      <th>3</th>\n",
              "      <td>4685</td>\n",
              "      <td>spam</td>\n",
              "      <td>Subject: photoshop , windows , office . cheap ...</td>\n",
              "      <td>1</td>\n",
              "      <td>Subject: photoshop , windows , office . cheap ...</td>\n",
              "    </tr>\n",
              "    <tr>\n",
              "      <th>4</th>\n",
              "      <td>2030</td>\n",
              "      <td>ham</td>\n",
              "      <td>Subject: re : indian springs\\r\\nthis deal is t...</td>\n",
              "      <td>0</td>\n",
              "      <td>Subject: re : indian springs. this deal is to ...</td>\n",
              "    </tr>\n",
              "  </tbody>\n",
              "</table>\n",
              "</div>\n",
              "      <button class=\"colab-df-convert\" onclick=\"convertToInteractive('df-d611808c-5092-4568-8583-7181c07d4fd3')\"\n",
              "              title=\"Convert this dataframe to an interactive table.\"\n",
              "              style=\"display:none;\">\n",
              "        \n",
              "  <svg xmlns=\"http://www.w3.org/2000/svg\" height=\"24px\"viewBox=\"0 0 24 24\"\n",
              "       width=\"24px\">\n",
              "    <path d=\"M0 0h24v24H0V0z\" fill=\"none\"/>\n",
              "    <path d=\"M18.56 5.44l.94 2.06.94-2.06 2.06-.94-2.06-.94-.94-2.06-.94 2.06-2.06.94zm-11 1L8.5 8.5l.94-2.06 2.06-.94-2.06-.94L8.5 2.5l-.94 2.06-2.06.94zm10 10l.94 2.06.94-2.06 2.06-.94-2.06-.94-.94-2.06-.94 2.06-2.06.94z\"/><path d=\"M17.41 7.96l-1.37-1.37c-.4-.4-.92-.59-1.43-.59-.52 0-1.04.2-1.43.59L10.3 9.45l-7.72 7.72c-.78.78-.78 2.05 0 2.83L4 21.41c.39.39.9.59 1.41.59.51 0 1.02-.2 1.41-.59l7.78-7.78 2.81-2.81c.8-.78.8-2.07 0-2.86zM5.41 20L4 18.59l7.72-7.72 1.47 1.35L5.41 20z\"/>\n",
              "  </svg>\n",
              "      </button>\n",
              "      \n",
              "  <style>\n",
              "    .colab-df-container {\n",
              "      display:flex;\n",
              "      flex-wrap:wrap;\n",
              "      gap: 12px;\n",
              "    }\n",
              "\n",
              "    .colab-df-convert {\n",
              "      background-color: #E8F0FE;\n",
              "      border: none;\n",
              "      border-radius: 50%;\n",
              "      cursor: pointer;\n",
              "      display: none;\n",
              "      fill: #1967D2;\n",
              "      height: 32px;\n",
              "      padding: 0 0 0 0;\n",
              "      width: 32px;\n",
              "    }\n",
              "\n",
              "    .colab-df-convert:hover {\n",
              "      background-color: #E2EBFA;\n",
              "      box-shadow: 0px 1px 2px rgba(60, 64, 67, 0.3), 0px 1px 3px 1px rgba(60, 64, 67, 0.15);\n",
              "      fill: #174EA6;\n",
              "    }\n",
              "\n",
              "    [theme=dark] .colab-df-convert {\n",
              "      background-color: #3B4455;\n",
              "      fill: #D2E3FC;\n",
              "    }\n",
              "\n",
              "    [theme=dark] .colab-df-convert:hover {\n",
              "      background-color: #434B5C;\n",
              "      box-shadow: 0px 1px 3px 1px rgba(0, 0, 0, 0.15);\n",
              "      filter: drop-shadow(0px 1px 2px rgba(0, 0, 0, 0.3));\n",
              "      fill: #FFFFFF;\n",
              "    }\n",
              "  </style>\n",
              "\n",
              "      <script>\n",
              "        const buttonEl =\n",
              "          document.querySelector('#df-d611808c-5092-4568-8583-7181c07d4fd3 button.colab-df-convert');\n",
              "        buttonEl.style.display =\n",
              "          google.colab.kernel.accessAllowed ? 'block' : 'none';\n",
              "\n",
              "        async function convertToInteractive(key) {\n",
              "          const element = document.querySelector('#df-d611808c-5092-4568-8583-7181c07d4fd3');\n",
              "          const dataTable =\n",
              "            await google.colab.kernel.invokeFunction('convertToInteractive',\n",
              "                                                     [key], {});\n",
              "          if (!dataTable) return;\n",
              "\n",
              "          const docLinkHtml = 'Like what you see? Visit the ' +\n",
              "            '<a target=\"_blank\" href=https://colab.research.google.com/notebooks/data_table.ipynb>data table notebook</a>'\n",
              "            + ' to learn more about interactive tables.';\n",
              "          element.innerHTML = '';\n",
              "          dataTable['output_type'] = 'display_data';\n",
              "          await google.colab.output.renderOutput(dataTable, element);\n",
              "          const docLink = document.createElement('div');\n",
              "          docLink.innerHTML = docLinkHtml;\n",
              "          element.appendChild(docLink);\n",
              "        }\n",
              "      </script>\n",
              "    </div>\n",
              "  </div>\n",
              "  "
            ]
          },
          "metadata": {},
          "execution_count": 5
        }
      ]
    },
    {
      "cell_type": "code",
      "source": [
        "spam_df.shape"
      ],
      "metadata": {
        "colab": {
          "base_uri": "https://localhost:8080/"
        },
        "id": "zy46xx_gGbyK",
        "outputId": "923962c5-2a07-4b19-e26b-6fbde2d8749b"
      },
      "execution_count": 6,
      "outputs": [
        {
          "output_type": "execute_result",
          "data": {
            "text/plain": [
              "(5171, 5)"
            ]
          },
          "metadata": {},
          "execution_count": 6
        }
      ]
    },
    {
      "cell_type": "code",
      "source": [
        "spam_df['label_num'].value_counts()"
      ],
      "metadata": {
        "colab": {
          "base_uri": "https://localhost:8080/"
        },
        "id": "xmLKahBMJA99",
        "outputId": "6154904b-365b-4f8d-fd14-7116a0ad883e"
      },
      "execution_count": 7,
      "outputs": [
        {
          "output_type": "execute_result",
          "data": {
            "text/plain": [
              "0    3672\n",
              "1    1499\n",
              "Name: label_num, dtype: int64"
            ]
          },
          "metadata": {},
          "execution_count": 7
        }
      ]
    },
    {
      "cell_type": "code",
      "source": [
        "#We will select 250 rows for both spam and non spam"
      ],
      "metadata": {
        "id": "wbKmfpKJJGRc"
      },
      "execution_count": 8,
      "outputs": []
    },
    {
      "cell_type": "code",
      "source": [
        "spam_mails = spam_df[spam_df['label_num']==1].sample(n = 250, random_state = 7)"
      ],
      "metadata": {
        "id": "DXMZR0DKJOz3"
      },
      "execution_count": 9,
      "outputs": []
    },
    {
      "cell_type": "code",
      "source": [
        "non_spam_mails = spam_df[spam_df['label_num']==0].sample(n = 250, random_state = 7)"
      ],
      "metadata": {
        "id": "IWhp9kllJh1_"
      },
      "execution_count": 10,
      "outputs": []
    },
    {
      "cell_type": "code",
      "source": [
        "spam_df_final = pd.concat([spam_mails,non_spam_mails])"
      ],
      "metadata": {
        "id": "gpim35RFJ0XQ"
      },
      "execution_count": 11,
      "outputs": []
    },
    {
      "cell_type": "code",
      "source": [
        "spam_df_final.head()"
      ],
      "metadata": {
        "colab": {
          "base_uri": "https://localhost:8080/",
          "height": 206
        },
        "id": "WF93-54nJ7bw",
        "outputId": "96bc2e97-31a5-4dde-ec82-574f4796fcc5"
      },
      "execution_count": 12,
      "outputs": [
        {
          "output_type": "execute_result",
          "data": {
            "text/plain": [
              "      Unnamed: 0 label                                               text  \\\n",
              "1347        4423  spam  Subject: is your wife in pain\\r\\nstop the pain...   \n",
              "191         4619  spam  Subject: young sluts getting creamy facials fo...   \n",
              "3971        4789  spam  Subject: real - time alert for hot stock featu...   \n",
              "3961        5032  spam  Subject: craving for rolexes or omegas ?\\r\\nem...   \n",
              "4499        4239  spam  Subject: try cortizyte , a revolutionary weigh...   \n",
              "\n",
              "      label_num                                         clean_text  \n",
              "1347          1  Subject: is your wife in pain. stop the pain. ...  \n",
              "191           1  Subject: young sluts getting creamy facials fo...  \n",
              "3971          1  Subject: real - time alert for hot stock featu...  \n",
              "3961          1  Subject: craving for rolexes or omegas ?. empt...  \n",
              "4499          1  Subject: try cortizyte , a revolutionary weigh...  "
            ],
            "text/html": [
              "\n",
              "  <div id=\"df-6803ff08-4391-49f0-9e5f-d3a2792e18fe\">\n",
              "    <div class=\"colab-df-container\">\n",
              "      <div>\n",
              "<style scoped>\n",
              "    .dataframe tbody tr th:only-of-type {\n",
              "        vertical-align: middle;\n",
              "    }\n",
              "\n",
              "    .dataframe tbody tr th {\n",
              "        vertical-align: top;\n",
              "    }\n",
              "\n",
              "    .dataframe thead th {\n",
              "        text-align: right;\n",
              "    }\n",
              "</style>\n",
              "<table border=\"1\" class=\"dataframe\">\n",
              "  <thead>\n",
              "    <tr style=\"text-align: right;\">\n",
              "      <th></th>\n",
              "      <th>Unnamed: 0</th>\n",
              "      <th>label</th>\n",
              "      <th>text</th>\n",
              "      <th>label_num</th>\n",
              "      <th>clean_text</th>\n",
              "    </tr>\n",
              "  </thead>\n",
              "  <tbody>\n",
              "    <tr>\n",
              "      <th>1347</th>\n",
              "      <td>4423</td>\n",
              "      <td>spam</td>\n",
              "      <td>Subject: is your wife in pain\\r\\nstop the pain...</td>\n",
              "      <td>1</td>\n",
              "      <td>Subject: is your wife in pain. stop the pain. ...</td>\n",
              "    </tr>\n",
              "    <tr>\n",
              "      <th>191</th>\n",
              "      <td>4619</td>\n",
              "      <td>spam</td>\n",
              "      <td>Subject: young sluts getting creamy facials fo...</td>\n",
              "      <td>1</td>\n",
              "      <td>Subject: young sluts getting creamy facials fo...</td>\n",
              "    </tr>\n",
              "    <tr>\n",
              "      <th>3971</th>\n",
              "      <td>4789</td>\n",
              "      <td>spam</td>\n",
              "      <td>Subject: real - time alert for hot stock featu...</td>\n",
              "      <td>1</td>\n",
              "      <td>Subject: real - time alert for hot stock featu...</td>\n",
              "    </tr>\n",
              "    <tr>\n",
              "      <th>3961</th>\n",
              "      <td>5032</td>\n",
              "      <td>spam</td>\n",
              "      <td>Subject: craving for rolexes or omegas ?\\r\\nem...</td>\n",
              "      <td>1</td>\n",
              "      <td>Subject: craving for rolexes or omegas ?. empt...</td>\n",
              "    </tr>\n",
              "    <tr>\n",
              "      <th>4499</th>\n",
              "      <td>4239</td>\n",
              "      <td>spam</td>\n",
              "      <td>Subject: try cortizyte , a revolutionary weigh...</td>\n",
              "      <td>1</td>\n",
              "      <td>Subject: try cortizyte , a revolutionary weigh...</td>\n",
              "    </tr>\n",
              "  </tbody>\n",
              "</table>\n",
              "</div>\n",
              "      <button class=\"colab-df-convert\" onclick=\"convertToInteractive('df-6803ff08-4391-49f0-9e5f-d3a2792e18fe')\"\n",
              "              title=\"Convert this dataframe to an interactive table.\"\n",
              "              style=\"display:none;\">\n",
              "        \n",
              "  <svg xmlns=\"http://www.w3.org/2000/svg\" height=\"24px\"viewBox=\"0 0 24 24\"\n",
              "       width=\"24px\">\n",
              "    <path d=\"M0 0h24v24H0V0z\" fill=\"none\"/>\n",
              "    <path d=\"M18.56 5.44l.94 2.06.94-2.06 2.06-.94-2.06-.94-.94-2.06-.94 2.06-2.06.94zm-11 1L8.5 8.5l.94-2.06 2.06-.94-2.06-.94L8.5 2.5l-.94 2.06-2.06.94zm10 10l.94 2.06.94-2.06 2.06-.94-2.06-.94-.94-2.06-.94 2.06-2.06.94z\"/><path d=\"M17.41 7.96l-1.37-1.37c-.4-.4-.92-.59-1.43-.59-.52 0-1.04.2-1.43.59L10.3 9.45l-7.72 7.72c-.78.78-.78 2.05 0 2.83L4 21.41c.39.39.9.59 1.41.59.51 0 1.02-.2 1.41-.59l7.78-7.78 2.81-2.81c.8-.78.8-2.07 0-2.86zM5.41 20L4 18.59l7.72-7.72 1.47 1.35L5.41 20z\"/>\n",
              "  </svg>\n",
              "      </button>\n",
              "      \n",
              "  <style>\n",
              "    .colab-df-container {\n",
              "      display:flex;\n",
              "      flex-wrap:wrap;\n",
              "      gap: 12px;\n",
              "    }\n",
              "\n",
              "    .colab-df-convert {\n",
              "      background-color: #E8F0FE;\n",
              "      border: none;\n",
              "      border-radius: 50%;\n",
              "      cursor: pointer;\n",
              "      display: none;\n",
              "      fill: #1967D2;\n",
              "      height: 32px;\n",
              "      padding: 0 0 0 0;\n",
              "      width: 32px;\n",
              "    }\n",
              "\n",
              "    .colab-df-convert:hover {\n",
              "      background-color: #E2EBFA;\n",
              "      box-shadow: 0px 1px 2px rgba(60, 64, 67, 0.3), 0px 1px 3px 1px rgba(60, 64, 67, 0.15);\n",
              "      fill: #174EA6;\n",
              "    }\n",
              "\n",
              "    [theme=dark] .colab-df-convert {\n",
              "      background-color: #3B4455;\n",
              "      fill: #D2E3FC;\n",
              "    }\n",
              "\n",
              "    [theme=dark] .colab-df-convert:hover {\n",
              "      background-color: #434B5C;\n",
              "      box-shadow: 0px 1px 3px 1px rgba(0, 0, 0, 0.15);\n",
              "      filter: drop-shadow(0px 1px 2px rgba(0, 0, 0, 0.3));\n",
              "      fill: #FFFFFF;\n",
              "    }\n",
              "  </style>\n",
              "\n",
              "      <script>\n",
              "        const buttonEl =\n",
              "          document.querySelector('#df-6803ff08-4391-49f0-9e5f-d3a2792e18fe button.colab-df-convert');\n",
              "        buttonEl.style.display =\n",
              "          google.colab.kernel.accessAllowed ? 'block' : 'none';\n",
              "\n",
              "        async function convertToInteractive(key) {\n",
              "          const element = document.querySelector('#df-6803ff08-4391-49f0-9e5f-d3a2792e18fe');\n",
              "          const dataTable =\n",
              "            await google.colab.kernel.invokeFunction('convertToInteractive',\n",
              "                                                     [key], {});\n",
              "          if (!dataTable) return;\n",
              "\n",
              "          const docLinkHtml = 'Like what you see? Visit the ' +\n",
              "            '<a target=\"_blank\" href=https://colab.research.google.com/notebooks/data_table.ipynb>data table notebook</a>'\n",
              "            + ' to learn more about interactive tables.';\n",
              "          element.innerHTML = '';\n",
              "          dataTable['output_type'] = 'display_data';\n",
              "          await google.colab.output.renderOutput(dataTable, element);\n",
              "          const docLink = document.createElement('div');\n",
              "          docLink.innerHTML = docLinkHtml;\n",
              "          element.appendChild(docLink);\n",
              "        }\n",
              "      </script>\n",
              "    </div>\n",
              "  </div>\n",
              "  "
            ]
          },
          "metadata": {},
          "execution_count": 12
        }
      ]
    },
    {
      "cell_type": "code",
      "source": [
        "spam_df_final['label_num'].value_counts()"
      ],
      "metadata": {
        "colab": {
          "base_uri": "https://localhost:8080/"
        },
        "id": "eRNvkB1yJ-IK",
        "outputId": "9cf6d6e1-250d-4461-c7d6-afd7f24b55b7"
      },
      "execution_count": 13,
      "outputs": [
        {
          "output_type": "execute_result",
          "data": {
            "text/plain": [
              "1    250\n",
              "0    250\n",
              "Name: label_num, dtype: int64"
            ]
          },
          "metadata": {},
          "execution_count": 13
        }
      ]
    },
    {
      "cell_type": "code",
      "source": [
        "#Calculating the length of strings of clean text\n",
        "spam_df_final['text_length'] = spam_df_final['clean_text'].map(lambda name:len(name))"
      ],
      "metadata": {
        "id": "nNqdC--ZKCEA"
      },
      "execution_count": 14,
      "outputs": []
    },
    {
      "cell_type": "code",
      "source": [
        "spam_df_final.head()"
      ],
      "metadata": {
        "colab": {
          "base_uri": "https://localhost:8080/",
          "height": 206
        },
        "id": "vv-TLaF7KTG1",
        "outputId": "434d00e7-d82c-4b40-d20d-b440c2bff2ba"
      },
      "execution_count": 15,
      "outputs": [
        {
          "output_type": "execute_result",
          "data": {
            "text/plain": [
              "      Unnamed: 0 label                                               text  \\\n",
              "1347        4423  spam  Subject: is your wife in pain\\r\\nstop the pain...   \n",
              "191         4619  spam  Subject: young sluts getting creamy facials fo...   \n",
              "3971        4789  spam  Subject: real - time alert for hot stock featu...   \n",
              "3961        5032  spam  Subject: craving for rolexes or omegas ?\\r\\nem...   \n",
              "4499        4239  spam  Subject: try cortizyte , a revolutionary weigh...   \n",
              "\n",
              "      label_num                                         clean_text  \\\n",
              "1347          1  Subject: is your wife in pain. stop the pain. ...   \n",
              "191           1  Subject: young sluts getting creamy facials fo...   \n",
              "3971          1  Subject: real - time alert for hot stock featu...   \n",
              "3961          1  Subject: craving for rolexes or omegas ?. empt...   \n",
              "4499          1  Subject: try cortizyte , a revolutionary weigh...   \n",
              "\n",
              "      text_length  \n",
              "1347          309  \n",
              "191           144  \n",
              "3971         4120  \n",
              "3961         1660  \n",
              "4499          559  "
            ],
            "text/html": [
              "\n",
              "  <div id=\"df-d1c1d26d-9008-4b51-993a-038bb9057052\">\n",
              "    <div class=\"colab-df-container\">\n",
              "      <div>\n",
              "<style scoped>\n",
              "    .dataframe tbody tr th:only-of-type {\n",
              "        vertical-align: middle;\n",
              "    }\n",
              "\n",
              "    .dataframe tbody tr th {\n",
              "        vertical-align: top;\n",
              "    }\n",
              "\n",
              "    .dataframe thead th {\n",
              "        text-align: right;\n",
              "    }\n",
              "</style>\n",
              "<table border=\"1\" class=\"dataframe\">\n",
              "  <thead>\n",
              "    <tr style=\"text-align: right;\">\n",
              "      <th></th>\n",
              "      <th>Unnamed: 0</th>\n",
              "      <th>label</th>\n",
              "      <th>text</th>\n",
              "      <th>label_num</th>\n",
              "      <th>clean_text</th>\n",
              "      <th>text_length</th>\n",
              "    </tr>\n",
              "  </thead>\n",
              "  <tbody>\n",
              "    <tr>\n",
              "      <th>1347</th>\n",
              "      <td>4423</td>\n",
              "      <td>spam</td>\n",
              "      <td>Subject: is your wife in pain\\r\\nstop the pain...</td>\n",
              "      <td>1</td>\n",
              "      <td>Subject: is your wife in pain. stop the pain. ...</td>\n",
              "      <td>309</td>\n",
              "    </tr>\n",
              "    <tr>\n",
              "      <th>191</th>\n",
              "      <td>4619</td>\n",
              "      <td>spam</td>\n",
              "      <td>Subject: young sluts getting creamy facials fo...</td>\n",
              "      <td>1</td>\n",
              "      <td>Subject: young sluts getting creamy facials fo...</td>\n",
              "      <td>144</td>\n",
              "    </tr>\n",
              "    <tr>\n",
              "      <th>3971</th>\n",
              "      <td>4789</td>\n",
              "      <td>spam</td>\n",
              "      <td>Subject: real - time alert for hot stock featu...</td>\n",
              "      <td>1</td>\n",
              "      <td>Subject: real - time alert for hot stock featu...</td>\n",
              "      <td>4120</td>\n",
              "    </tr>\n",
              "    <tr>\n",
              "      <th>3961</th>\n",
              "      <td>5032</td>\n",
              "      <td>spam</td>\n",
              "      <td>Subject: craving for rolexes or omegas ?\\r\\nem...</td>\n",
              "      <td>1</td>\n",
              "      <td>Subject: craving for rolexes or omegas ?. empt...</td>\n",
              "      <td>1660</td>\n",
              "    </tr>\n",
              "    <tr>\n",
              "      <th>4499</th>\n",
              "      <td>4239</td>\n",
              "      <td>spam</td>\n",
              "      <td>Subject: try cortizyte , a revolutionary weigh...</td>\n",
              "      <td>1</td>\n",
              "      <td>Subject: try cortizyte , a revolutionary weigh...</td>\n",
              "      <td>559</td>\n",
              "    </tr>\n",
              "  </tbody>\n",
              "</table>\n",
              "</div>\n",
              "      <button class=\"colab-df-convert\" onclick=\"convertToInteractive('df-d1c1d26d-9008-4b51-993a-038bb9057052')\"\n",
              "              title=\"Convert this dataframe to an interactive table.\"\n",
              "              style=\"display:none;\">\n",
              "        \n",
              "  <svg xmlns=\"http://www.w3.org/2000/svg\" height=\"24px\"viewBox=\"0 0 24 24\"\n",
              "       width=\"24px\">\n",
              "    <path d=\"M0 0h24v24H0V0z\" fill=\"none\"/>\n",
              "    <path d=\"M18.56 5.44l.94 2.06.94-2.06 2.06-.94-2.06-.94-.94-2.06-.94 2.06-2.06.94zm-11 1L8.5 8.5l.94-2.06 2.06-.94-2.06-.94L8.5 2.5l-.94 2.06-2.06.94zm10 10l.94 2.06.94-2.06 2.06-.94-2.06-.94-.94-2.06-.94 2.06-2.06.94z\"/><path d=\"M17.41 7.96l-1.37-1.37c-.4-.4-.92-.59-1.43-.59-.52 0-1.04.2-1.43.59L10.3 9.45l-7.72 7.72c-.78.78-.78 2.05 0 2.83L4 21.41c.39.39.9.59 1.41.59.51 0 1.02-.2 1.41-.59l7.78-7.78 2.81-2.81c.8-.78.8-2.07 0-2.86zM5.41 20L4 18.59l7.72-7.72 1.47 1.35L5.41 20z\"/>\n",
              "  </svg>\n",
              "      </button>\n",
              "      \n",
              "  <style>\n",
              "    .colab-df-container {\n",
              "      display:flex;\n",
              "      flex-wrap:wrap;\n",
              "      gap: 12px;\n",
              "    }\n",
              "\n",
              "    .colab-df-convert {\n",
              "      background-color: #E8F0FE;\n",
              "      border: none;\n",
              "      border-radius: 50%;\n",
              "      cursor: pointer;\n",
              "      display: none;\n",
              "      fill: #1967D2;\n",
              "      height: 32px;\n",
              "      padding: 0 0 0 0;\n",
              "      width: 32px;\n",
              "    }\n",
              "\n",
              "    .colab-df-convert:hover {\n",
              "      background-color: #E2EBFA;\n",
              "      box-shadow: 0px 1px 2px rgba(60, 64, 67, 0.3), 0px 1px 3px 1px rgba(60, 64, 67, 0.15);\n",
              "      fill: #174EA6;\n",
              "    }\n",
              "\n",
              "    [theme=dark] .colab-df-convert {\n",
              "      background-color: #3B4455;\n",
              "      fill: #D2E3FC;\n",
              "    }\n",
              "\n",
              "    [theme=dark] .colab-df-convert:hover {\n",
              "      background-color: #434B5C;\n",
              "      box-shadow: 0px 1px 3px 1px rgba(0, 0, 0, 0.15);\n",
              "      filter: drop-shadow(0px 1px 2px rgba(0, 0, 0, 0.3));\n",
              "      fill: #FFFFFF;\n",
              "    }\n",
              "  </style>\n",
              "\n",
              "      <script>\n",
              "        const buttonEl =\n",
              "          document.querySelector('#df-d1c1d26d-9008-4b51-993a-038bb9057052 button.colab-df-convert');\n",
              "        buttonEl.style.display =\n",
              "          google.colab.kernel.accessAllowed ? 'block' : 'none';\n",
              "\n",
              "        async function convertToInteractive(key) {\n",
              "          const element = document.querySelector('#df-d1c1d26d-9008-4b51-993a-038bb9057052');\n",
              "          const dataTable =\n",
              "            await google.colab.kernel.invokeFunction('convertToInteractive',\n",
              "                                                     [key], {});\n",
              "          if (!dataTable) return;\n",
              "\n",
              "          const docLinkHtml = 'Like what you see? Visit the ' +\n",
              "            '<a target=\"_blank\" href=https://colab.research.google.com/notebooks/data_table.ipynb>data table notebook</a>'\n",
              "            + ' to learn more about interactive tables.';\n",
              "          element.innerHTML = '';\n",
              "          dataTable['output_type'] = 'display_data';\n",
              "          await google.colab.output.renderOutput(dataTable, element);\n",
              "          const docLink = document.createElement('div');\n",
              "          docLink.innerHTML = docLinkHtml;\n",
              "          element.appendChild(docLink);\n",
              "        }\n",
              "      </script>\n",
              "    </div>\n",
              "  </div>\n",
              "  "
            ]
          },
          "metadata": {},
          "execution_count": 15
        }
      ]
    },
    {
      "cell_type": "code",
      "source": [
        "#Sentence Length is big. Greater than 512 tokens. Link: https://proceedings.neurips.cc/paper/2020/file/96671501524948bc3937b4b30d0e57b9-Paper.pdf\n",
        "spam_df_final['text_length'].describe()"
      ],
      "metadata": {
        "colab": {
          "base_uri": "https://localhost:8080/"
        },
        "id": "J180_ssgKm-O",
        "outputId": "5553695e-c896-4d83-e15e-54346e3f9699"
      },
      "execution_count": 16,
      "outputs": [
        {
          "output_type": "execute_result",
          "data": {
            "text/plain": [
              "count      500.000000\n",
              "mean      1201.890000\n",
              "std       1730.086265\n",
              "min         11.000000\n",
              "25%        273.000000\n",
              "50%        612.000000\n",
              "75%       1326.750000\n",
              "max      14716.000000\n",
              "Name: text_length, dtype: float64"
            ]
          },
          "metadata": {},
          "execution_count": 16
        }
      ]
    },
    {
      "cell_type": "code",
      "source": [
        "# A dependency of the preprocessing for BERT inputs\n",
        "!pip install -q -U \"tensorflow-text==2.8.*\""
      ],
      "metadata": {
        "id": "_NZs0OgGKysb"
      },
      "execution_count": 17,
      "outputs": []
    },
    {
      "cell_type": "code",
      "source": [
        "!pip install -q tf-models-official==2.7.0"
      ],
      "metadata": {
        "id": "m0_yn9RDN1jl"
      },
      "execution_count": 18,
      "outputs": []
    },
    {
      "cell_type": "code",
      "source": [
        "import os\n",
        "import shutil\n",
        "import tensorflow as tf\n",
        "import tensorflow_hub as hub\n",
        "import tensorflow_text as text\n",
        "from official.nlp import optimization  # to create AdamW optimizer\n",
        "import matplotlib.pyplot as plt\n",
        "tf.get_logger().setLevel('ERROR')"
      ],
      "metadata": {
        "id": "fYDWPXukN5z5"
      },
      "execution_count": 19,
      "outputs": []
    },
    {
      "cell_type": "code",
      "source": [
        "#BERT preprocessor and BERT encoder\n",
        "bert_preprocess = hub.KerasLayer(\"https://tfhub.dev/tensorflow/bert_en_uncased_preprocess/3\")\n",
        "bert_encoder = hub.KerasLayer(\"https://tfhub.dev/tensorflow/bert_en_uncased_L-12_H-768_A-12/4\")"
      ],
      "metadata": {
        "id": "3uDFux_EN-Ez"
      },
      "execution_count": 20,
      "outputs": []
    },
    {
      "cell_type": "code",
      "source": [
        "def get_sentence_embeding(sentences):\n",
        "    preprocessed_text = bert_preprocess(sentences)\n",
        "    return bert_encoder(preprocessed_text)['pooled_output']"
      ],
      "metadata": {
        "id": "LHrDZcRGOCZP"
      },
      "execution_count": 21,
      "outputs": []
    },
    {
      "cell_type": "code",
      "source": [
        "spam_df_final['BERT_output'] = [x for x in get_sentence_embeding(spam_df_final['clean_text'])]"
      ],
      "metadata": {
        "id": "ircXcHnIOKTr"
      },
      "execution_count": 22,
      "outputs": []
    },
    {
      "cell_type": "code",
      "source": [
        "spam_df_final.head()"
      ],
      "metadata": {
        "colab": {
          "base_uri": "https://localhost:8080/",
          "height": 354
        },
        "id": "nqND2axtOZX4",
        "outputId": "895b8655-cc9f-42b8-ad8b-cab91e150199"
      },
      "execution_count": 23,
      "outputs": [
        {
          "output_type": "execute_result",
          "data": {
            "text/plain": [
              "      Unnamed: 0 label                                               text  \\\n",
              "1347        4423  spam  Subject: is your wife in pain\\r\\nstop the pain...   \n",
              "191         4619  spam  Subject: young sluts getting creamy facials fo...   \n",
              "3971        4789  spam  Subject: real - time alert for hot stock featu...   \n",
              "3961        5032  spam  Subject: craving for rolexes or omegas ?\\r\\nem...   \n",
              "4499        4239  spam  Subject: try cortizyte , a revolutionary weigh...   \n",
              "\n",
              "      label_num                                         clean_text  \\\n",
              "1347          1  Subject: is your wife in pain. stop the pain. ...   \n",
              "191           1  Subject: young sluts getting creamy facials fo...   \n",
              "3971          1  Subject: real - time alert for hot stock featu...   \n",
              "3961          1  Subject: craving for rolexes or omegas ?. empt...   \n",
              "4499          1  Subject: try cortizyte , a revolutionary weigh...   \n",
              "\n",
              "      text_length                                        BERT_output  \n",
              "1347          309  (tf.Tensor(-0.66220784, shape=(), dtype=float3...  \n",
              "191           144  (tf.Tensor(-0.62916726, shape=(), dtype=float3...  \n",
              "3971         4120  (tf.Tensor(-0.60679173, shape=(), dtype=float3...  \n",
              "3961         1660  (tf.Tensor(-0.5414106, shape=(), dtype=float32...  \n",
              "4499          559  (tf.Tensor(-0.7903552, shape=(), dtype=float32...  "
            ],
            "text/html": [
              "\n",
              "  <div id=\"df-4f125c49-30b3-4916-a68c-0d6134724d08\">\n",
              "    <div class=\"colab-df-container\">\n",
              "      <div>\n",
              "<style scoped>\n",
              "    .dataframe tbody tr th:only-of-type {\n",
              "        vertical-align: middle;\n",
              "    }\n",
              "\n",
              "    .dataframe tbody tr th {\n",
              "        vertical-align: top;\n",
              "    }\n",
              "\n",
              "    .dataframe thead th {\n",
              "        text-align: right;\n",
              "    }\n",
              "</style>\n",
              "<table border=\"1\" class=\"dataframe\">\n",
              "  <thead>\n",
              "    <tr style=\"text-align: right;\">\n",
              "      <th></th>\n",
              "      <th>Unnamed: 0</th>\n",
              "      <th>label</th>\n",
              "      <th>text</th>\n",
              "      <th>label_num</th>\n",
              "      <th>clean_text</th>\n",
              "      <th>text_length</th>\n",
              "      <th>BERT_output</th>\n",
              "    </tr>\n",
              "  </thead>\n",
              "  <tbody>\n",
              "    <tr>\n",
              "      <th>1347</th>\n",
              "      <td>4423</td>\n",
              "      <td>spam</td>\n",
              "      <td>Subject: is your wife in pain\\r\\nstop the pain...</td>\n",
              "      <td>1</td>\n",
              "      <td>Subject: is your wife in pain. stop the pain. ...</td>\n",
              "      <td>309</td>\n",
              "      <td>(tf.Tensor(-0.66220784, shape=(), dtype=float3...</td>\n",
              "    </tr>\n",
              "    <tr>\n",
              "      <th>191</th>\n",
              "      <td>4619</td>\n",
              "      <td>spam</td>\n",
              "      <td>Subject: young sluts getting creamy facials fo...</td>\n",
              "      <td>1</td>\n",
              "      <td>Subject: young sluts getting creamy facials fo...</td>\n",
              "      <td>144</td>\n",
              "      <td>(tf.Tensor(-0.62916726, shape=(), dtype=float3...</td>\n",
              "    </tr>\n",
              "    <tr>\n",
              "      <th>3971</th>\n",
              "      <td>4789</td>\n",
              "      <td>spam</td>\n",
              "      <td>Subject: real - time alert for hot stock featu...</td>\n",
              "      <td>1</td>\n",
              "      <td>Subject: real - time alert for hot stock featu...</td>\n",
              "      <td>4120</td>\n",
              "      <td>(tf.Tensor(-0.60679173, shape=(), dtype=float3...</td>\n",
              "    </tr>\n",
              "    <tr>\n",
              "      <th>3961</th>\n",
              "      <td>5032</td>\n",
              "      <td>spam</td>\n",
              "      <td>Subject: craving for rolexes or omegas ?\\r\\nem...</td>\n",
              "      <td>1</td>\n",
              "      <td>Subject: craving for rolexes or omegas ?. empt...</td>\n",
              "      <td>1660</td>\n",
              "      <td>(tf.Tensor(-0.5414106, shape=(), dtype=float32...</td>\n",
              "    </tr>\n",
              "    <tr>\n",
              "      <th>4499</th>\n",
              "      <td>4239</td>\n",
              "      <td>spam</td>\n",
              "      <td>Subject: try cortizyte , a revolutionary weigh...</td>\n",
              "      <td>1</td>\n",
              "      <td>Subject: try cortizyte , a revolutionary weigh...</td>\n",
              "      <td>559</td>\n",
              "      <td>(tf.Tensor(-0.7903552, shape=(), dtype=float32...</td>\n",
              "    </tr>\n",
              "  </tbody>\n",
              "</table>\n",
              "</div>\n",
              "      <button class=\"colab-df-convert\" onclick=\"convertToInteractive('df-4f125c49-30b3-4916-a68c-0d6134724d08')\"\n",
              "              title=\"Convert this dataframe to an interactive table.\"\n",
              "              style=\"display:none;\">\n",
              "        \n",
              "  <svg xmlns=\"http://www.w3.org/2000/svg\" height=\"24px\"viewBox=\"0 0 24 24\"\n",
              "       width=\"24px\">\n",
              "    <path d=\"M0 0h24v24H0V0z\" fill=\"none\"/>\n",
              "    <path d=\"M18.56 5.44l.94 2.06.94-2.06 2.06-.94-2.06-.94-.94-2.06-.94 2.06-2.06.94zm-11 1L8.5 8.5l.94-2.06 2.06-.94-2.06-.94L8.5 2.5l-.94 2.06-2.06.94zm10 10l.94 2.06.94-2.06 2.06-.94-2.06-.94-.94-2.06-.94 2.06-2.06.94z\"/><path d=\"M17.41 7.96l-1.37-1.37c-.4-.4-.92-.59-1.43-.59-.52 0-1.04.2-1.43.59L10.3 9.45l-7.72 7.72c-.78.78-.78 2.05 0 2.83L4 21.41c.39.39.9.59 1.41.59.51 0 1.02-.2 1.41-.59l7.78-7.78 2.81-2.81c.8-.78.8-2.07 0-2.86zM5.41 20L4 18.59l7.72-7.72 1.47 1.35L5.41 20z\"/>\n",
              "  </svg>\n",
              "      </button>\n",
              "      \n",
              "  <style>\n",
              "    .colab-df-container {\n",
              "      display:flex;\n",
              "      flex-wrap:wrap;\n",
              "      gap: 12px;\n",
              "    }\n",
              "\n",
              "    .colab-df-convert {\n",
              "      background-color: #E8F0FE;\n",
              "      border: none;\n",
              "      border-radius: 50%;\n",
              "      cursor: pointer;\n",
              "      display: none;\n",
              "      fill: #1967D2;\n",
              "      height: 32px;\n",
              "      padding: 0 0 0 0;\n",
              "      width: 32px;\n",
              "    }\n",
              "\n",
              "    .colab-df-convert:hover {\n",
              "      background-color: #E2EBFA;\n",
              "      box-shadow: 0px 1px 2px rgba(60, 64, 67, 0.3), 0px 1px 3px 1px rgba(60, 64, 67, 0.15);\n",
              "      fill: #174EA6;\n",
              "    }\n",
              "\n",
              "    [theme=dark] .colab-df-convert {\n",
              "      background-color: #3B4455;\n",
              "      fill: #D2E3FC;\n",
              "    }\n",
              "\n",
              "    [theme=dark] .colab-df-convert:hover {\n",
              "      background-color: #434B5C;\n",
              "      box-shadow: 0px 1px 3px 1px rgba(0, 0, 0, 0.15);\n",
              "      filter: drop-shadow(0px 1px 2px rgba(0, 0, 0, 0.3));\n",
              "      fill: #FFFFFF;\n",
              "    }\n",
              "  </style>\n",
              "\n",
              "      <script>\n",
              "        const buttonEl =\n",
              "          document.querySelector('#df-4f125c49-30b3-4916-a68c-0d6134724d08 button.colab-df-convert');\n",
              "        buttonEl.style.display =\n",
              "          google.colab.kernel.accessAllowed ? 'block' : 'none';\n",
              "\n",
              "        async function convertToInteractive(key) {\n",
              "          const element = document.querySelector('#df-4f125c49-30b3-4916-a68c-0d6134724d08');\n",
              "          const dataTable =\n",
              "            await google.colab.kernel.invokeFunction('convertToInteractive',\n",
              "                                                     [key], {});\n",
              "          if (!dataTable) return;\n",
              "\n",
              "          const docLinkHtml = 'Like what you see? Visit the ' +\n",
              "            '<a target=\"_blank\" href=https://colab.research.google.com/notebooks/data_table.ipynb>data table notebook</a>'\n",
              "            + ' to learn more about interactive tables.';\n",
              "          element.innerHTML = '';\n",
              "          dataTable['output_type'] = 'display_data';\n",
              "          await google.colab.output.renderOutput(dataTable, element);\n",
              "          const docLink = document.createElement('div');\n",
              "          docLink.innerHTML = docLinkHtml;\n",
              "          element.appendChild(docLink);\n",
              "        }\n",
              "      </script>\n",
              "    </div>\n",
              "  </div>\n",
              "  "
            ]
          },
          "metadata": {},
          "execution_count": 23
        }
      ]
    },
    {
      "cell_type": "code",
      "source": [
        "#Word2vec model\n",
        "import gensim"
      ],
      "metadata": {
        "id": "7WudWgB1PVyD"
      },
      "execution_count": 24,
      "outputs": []
    },
    {
      "cell_type": "code",
      "source": [
        "#Clean data using the built in cleaner in gensim\n",
        "spam_df_final['text_w2v_input'] = spam_df_final['clean_text'].apply(lambda x: gensim.utils.simple_preprocess(x))\n",
        "spam_df_final.head()"
      ],
      "metadata": {
        "colab": {
          "base_uri": "https://localhost:8080/",
          "height": 354
        },
        "id": "ohTB7Ot0PmJS",
        "outputId": "32454c90-bf12-4395-b0c4-f0bb35379bbc"
      },
      "execution_count": 25,
      "outputs": [
        {
          "output_type": "execute_result",
          "data": {
            "text/plain": [
              "      Unnamed: 0 label                                               text  \\\n",
              "1347        4423  spam  Subject: is your wife in pain\\r\\nstop the pain...   \n",
              "191         4619  spam  Subject: young sluts getting creamy facials fo...   \n",
              "3971        4789  spam  Subject: real - time alert for hot stock featu...   \n",
              "3961        5032  spam  Subject: craving for rolexes or omegas ?\\r\\nem...   \n",
              "4499        4239  spam  Subject: try cortizyte , a revolutionary weigh...   \n",
              "\n",
              "      label_num                                         clean_text  \\\n",
              "1347          1  Subject: is your wife in pain. stop the pain. ...   \n",
              "191           1  Subject: young sluts getting creamy facials fo...   \n",
              "3971          1  Subject: real - time alert for hot stock featu...   \n",
              "3961          1  Subject: craving for rolexes or omegas ?. empt...   \n",
              "4499          1  Subject: try cortizyte , a revolutionary weigh...   \n",
              "\n",
              "      text_length                                        BERT_output  \\\n",
              "1347          309  (tf.Tensor(-0.66220784, shape=(), dtype=float3...   \n",
              "191           144  (tf.Tensor(-0.62916726, shape=(), dtype=float3...   \n",
              "3971         4120  (tf.Tensor(-0.60679173, shape=(), dtype=float3...   \n",
              "3961         1660  (tf.Tensor(-0.5414106, shape=(), dtype=float32...   \n",
              "4499          559  (tf.Tensor(-0.7903552, shape=(), dtype=float32...   \n",
              "\n",
              "                                         text_w2v_input  \n",
              "1347  [subject, is, your, wife, in, pain, stop, the,...  \n",
              "191   [subject, young, sluts, getting, creamy, facia...  \n",
              "3971  [subject, real, time, alert, for, hot, stock, ...  \n",
              "3961  [subject, craving, for, rolexes, or, omegas, e...  \n",
              "4499  [subject, try, cortizyte, revolutionary, weigh...  "
            ],
            "text/html": [
              "\n",
              "  <div id=\"df-c7aa00e4-9a16-445c-8b09-cbf29156dbe7\">\n",
              "    <div class=\"colab-df-container\">\n",
              "      <div>\n",
              "<style scoped>\n",
              "    .dataframe tbody tr th:only-of-type {\n",
              "        vertical-align: middle;\n",
              "    }\n",
              "\n",
              "    .dataframe tbody tr th {\n",
              "        vertical-align: top;\n",
              "    }\n",
              "\n",
              "    .dataframe thead th {\n",
              "        text-align: right;\n",
              "    }\n",
              "</style>\n",
              "<table border=\"1\" class=\"dataframe\">\n",
              "  <thead>\n",
              "    <tr style=\"text-align: right;\">\n",
              "      <th></th>\n",
              "      <th>Unnamed: 0</th>\n",
              "      <th>label</th>\n",
              "      <th>text</th>\n",
              "      <th>label_num</th>\n",
              "      <th>clean_text</th>\n",
              "      <th>text_length</th>\n",
              "      <th>BERT_output</th>\n",
              "      <th>text_w2v_input</th>\n",
              "    </tr>\n",
              "  </thead>\n",
              "  <tbody>\n",
              "    <tr>\n",
              "      <th>1347</th>\n",
              "      <td>4423</td>\n",
              "      <td>spam</td>\n",
              "      <td>Subject: is your wife in pain\\r\\nstop the pain...</td>\n",
              "      <td>1</td>\n",
              "      <td>Subject: is your wife in pain. stop the pain. ...</td>\n",
              "      <td>309</td>\n",
              "      <td>(tf.Tensor(-0.66220784, shape=(), dtype=float3...</td>\n",
              "      <td>[subject, is, your, wife, in, pain, stop, the,...</td>\n",
              "    </tr>\n",
              "    <tr>\n",
              "      <th>191</th>\n",
              "      <td>4619</td>\n",
              "      <td>spam</td>\n",
              "      <td>Subject: young sluts getting creamy facials fo...</td>\n",
              "      <td>1</td>\n",
              "      <td>Subject: young sluts getting creamy facials fo...</td>\n",
              "      <td>144</td>\n",
              "      <td>(tf.Tensor(-0.62916726, shape=(), dtype=float3...</td>\n",
              "      <td>[subject, young, sluts, getting, creamy, facia...</td>\n",
              "    </tr>\n",
              "    <tr>\n",
              "      <th>3971</th>\n",
              "      <td>4789</td>\n",
              "      <td>spam</td>\n",
              "      <td>Subject: real - time alert for hot stock featu...</td>\n",
              "      <td>1</td>\n",
              "      <td>Subject: real - time alert for hot stock featu...</td>\n",
              "      <td>4120</td>\n",
              "      <td>(tf.Tensor(-0.60679173, shape=(), dtype=float3...</td>\n",
              "      <td>[subject, real, time, alert, for, hot, stock, ...</td>\n",
              "    </tr>\n",
              "    <tr>\n",
              "      <th>3961</th>\n",
              "      <td>5032</td>\n",
              "      <td>spam</td>\n",
              "      <td>Subject: craving for rolexes or omegas ?\\r\\nem...</td>\n",
              "      <td>1</td>\n",
              "      <td>Subject: craving for rolexes or omegas ?. empt...</td>\n",
              "      <td>1660</td>\n",
              "      <td>(tf.Tensor(-0.5414106, shape=(), dtype=float32...</td>\n",
              "      <td>[subject, craving, for, rolexes, or, omegas, e...</td>\n",
              "    </tr>\n",
              "    <tr>\n",
              "      <th>4499</th>\n",
              "      <td>4239</td>\n",
              "      <td>spam</td>\n",
              "      <td>Subject: try cortizyte , a revolutionary weigh...</td>\n",
              "      <td>1</td>\n",
              "      <td>Subject: try cortizyte , a revolutionary weigh...</td>\n",
              "      <td>559</td>\n",
              "      <td>(tf.Tensor(-0.7903552, shape=(), dtype=float32...</td>\n",
              "      <td>[subject, try, cortizyte, revolutionary, weigh...</td>\n",
              "    </tr>\n",
              "  </tbody>\n",
              "</table>\n",
              "</div>\n",
              "      <button class=\"colab-df-convert\" onclick=\"convertToInteractive('df-c7aa00e4-9a16-445c-8b09-cbf29156dbe7')\"\n",
              "              title=\"Convert this dataframe to an interactive table.\"\n",
              "              style=\"display:none;\">\n",
              "        \n",
              "  <svg xmlns=\"http://www.w3.org/2000/svg\" height=\"24px\"viewBox=\"0 0 24 24\"\n",
              "       width=\"24px\">\n",
              "    <path d=\"M0 0h24v24H0V0z\" fill=\"none\"/>\n",
              "    <path d=\"M18.56 5.44l.94 2.06.94-2.06 2.06-.94-2.06-.94-.94-2.06-.94 2.06-2.06.94zm-11 1L8.5 8.5l.94-2.06 2.06-.94-2.06-.94L8.5 2.5l-.94 2.06-2.06.94zm10 10l.94 2.06.94-2.06 2.06-.94-2.06-.94-.94-2.06-.94 2.06-2.06.94z\"/><path d=\"M17.41 7.96l-1.37-1.37c-.4-.4-.92-.59-1.43-.59-.52 0-1.04.2-1.43.59L10.3 9.45l-7.72 7.72c-.78.78-.78 2.05 0 2.83L4 21.41c.39.39.9.59 1.41.59.51 0 1.02-.2 1.41-.59l7.78-7.78 2.81-2.81c.8-.78.8-2.07 0-2.86zM5.41 20L4 18.59l7.72-7.72 1.47 1.35L5.41 20z\"/>\n",
              "  </svg>\n",
              "      </button>\n",
              "      \n",
              "  <style>\n",
              "    .colab-df-container {\n",
              "      display:flex;\n",
              "      flex-wrap:wrap;\n",
              "      gap: 12px;\n",
              "    }\n",
              "\n",
              "    .colab-df-convert {\n",
              "      background-color: #E8F0FE;\n",
              "      border: none;\n",
              "      border-radius: 50%;\n",
              "      cursor: pointer;\n",
              "      display: none;\n",
              "      fill: #1967D2;\n",
              "      height: 32px;\n",
              "      padding: 0 0 0 0;\n",
              "      width: 32px;\n",
              "    }\n",
              "\n",
              "    .colab-df-convert:hover {\n",
              "      background-color: #E2EBFA;\n",
              "      box-shadow: 0px 1px 2px rgba(60, 64, 67, 0.3), 0px 1px 3px 1px rgba(60, 64, 67, 0.15);\n",
              "      fill: #174EA6;\n",
              "    }\n",
              "\n",
              "    [theme=dark] .colab-df-convert {\n",
              "      background-color: #3B4455;\n",
              "      fill: #D2E3FC;\n",
              "    }\n",
              "\n",
              "    [theme=dark] .colab-df-convert:hover {\n",
              "      background-color: #434B5C;\n",
              "      box-shadow: 0px 1px 3px 1px rgba(0, 0, 0, 0.15);\n",
              "      filter: drop-shadow(0px 1px 2px rgba(0, 0, 0, 0.3));\n",
              "      fill: #FFFFFF;\n",
              "    }\n",
              "  </style>\n",
              "\n",
              "      <script>\n",
              "        const buttonEl =\n",
              "          document.querySelector('#df-c7aa00e4-9a16-445c-8b09-cbf29156dbe7 button.colab-df-convert');\n",
              "        buttonEl.style.display =\n",
              "          google.colab.kernel.accessAllowed ? 'block' : 'none';\n",
              "\n",
              "        async function convertToInteractive(key) {\n",
              "          const element = document.querySelector('#df-c7aa00e4-9a16-445c-8b09-cbf29156dbe7');\n",
              "          const dataTable =\n",
              "            await google.colab.kernel.invokeFunction('convertToInteractive',\n",
              "                                                     [key], {});\n",
              "          if (!dataTable) return;\n",
              "\n",
              "          const docLinkHtml = 'Like what you see? Visit the ' +\n",
              "            '<a target=\"_blank\" href=https://colab.research.google.com/notebooks/data_table.ipynb>data table notebook</a>'\n",
              "            + ' to learn more about interactive tables.';\n",
              "          element.innerHTML = '';\n",
              "          dataTable['output_type'] = 'display_data';\n",
              "          await google.colab.output.renderOutput(dataTable, element);\n",
              "          const docLink = document.createElement('div');\n",
              "          docLink.innerHTML = docLinkHtml;\n",
              "          element.appendChild(docLink);\n",
              "        }\n",
              "      </script>\n",
              "    </div>\n",
              "  </div>\n",
              "  "
            ]
          },
          "metadata": {},
          "execution_count": 25
        }
      ]
    },
    {
      "cell_type": "code",
      "source": [
        "# Train the word2vec model\n",
        "w2v_model = gensim.models.Word2Vec(spam_df_final['text_w2v_input'], size=100,window=5,min_count=2)"
      ],
      "metadata": {
        "id": "G0GaSOgjP0YE"
      },
      "execution_count": 26,
      "outputs": []
    },
    {
      "cell_type": "code",
      "source": [
        "#Generate aggregated sentence vectors based on the word vectors for each word in the sentence\n",
        "#This code makes an array of all the sentences in which each sentence is an array of words in that sentence\n",
        "import numpy as np\n",
        "words = set(w2v_model.wv.index2word )\n",
        "w2v_vect = np.array([np.array([w2v_model.wv[i] for i in ls if i in words])\n",
        "                         for ls in spam_df_final['text_w2v_input']])"
      ],
      "metadata": {
        "colab": {
          "base_uri": "https://localhost:8080/"
        },
        "id": "QY226sbgR3cF",
        "outputId": "6f7bd3b0-9fc6-4b1b-992f-5f95fc7af45e"
      },
      "execution_count": 27,
      "outputs": [
        {
          "output_type": "stream",
          "name": "stderr",
          "text": [
            "/usr/local/lib/python3.7/dist-packages/ipykernel_launcher.py:6: VisibleDeprecationWarning: Creating an ndarray from ragged nested sequences (which is a list-or-tuple of lists-or-tuples-or ndarrays with different lengths or shapes) is deprecated. If you meant to do this, you must specify 'dtype=object' when creating the ndarray.\n",
            "  \n"
          ]
        }
      ]
    },
    {
      "cell_type": "code",
      "source": [
        "# Compute sentence vectors by averaging the word vectors for the words contained in the sentence\n",
        "#Here, we are averaging all features of vectors in a sentence to get a single vector for each sentence having 100 dimensions\n",
        "w2v_vect_avg = []\n",
        "for v in w2v_vect:\n",
        "    if v.size:\n",
        "        w2v_vect_avg.append(v.mean(axis=0))\n",
        "    else:\n",
        "        w2v_vect_avg.append(np.zeros(100, dtype=float))"
      ],
      "metadata": {
        "id": "IBSINtMuSEcO"
      },
      "execution_count": 28,
      "outputs": []
    },
    {
      "cell_type": "code",
      "source": [
        "spam_df_final['w2v_output'] = w2v_vect_avg"
      ],
      "metadata": {
        "id": "yn0kSrZUSGgn"
      },
      "execution_count": 29,
      "outputs": []
    },
    {
      "cell_type": "code",
      "source": [
        "for i, v in enumerate(w2v_vect_avg):\n",
        "    print(len(spam_df_final['text_w2v_input'].iloc[i]), len(v))"
      ],
      "metadata": {
        "colab": {
          "base_uri": "https://localhost:8080/"
        },
        "id": "ya24sHfab0pC",
        "outputId": "33709879-32b4-4b09-b70e-ebb3a878324c"
      },
      "execution_count": 55,
      "outputs": [
        {
          "output_type": "stream",
          "name": "stdout",
          "text": [
            "32 100\n",
            "22 100\n",
            "625 100\n",
            "245 100\n",
            "74 100\n",
            "222 100\n",
            "97 100\n",
            "22 100\n",
            "45 100\n",
            "153 100\n",
            "50 100\n",
            "132 100\n",
            "30 100\n",
            "108 100\n",
            "483 100\n",
            "173 100\n",
            "84 100\n",
            "987 100\n",
            "132 100\n",
            "235 100\n",
            "41 100\n",
            "549 100\n",
            "7 100\n",
            "17 100\n",
            "5 100\n",
            "177 100\n",
            "2 100\n",
            "144 100\n",
            "194 100\n",
            "304 100\n",
            "53 100\n",
            "181 100\n",
            "175 100\n",
            "1437 100\n",
            "1048 100\n",
            "1326 100\n",
            "58 100\n",
            "120 100\n",
            "13 100\n",
            "41 100\n",
            "619 100\n",
            "160 100\n",
            "151 100\n",
            "10 100\n",
            "11 100\n",
            "491 100\n",
            "52 100\n",
            "13 100\n",
            "187 100\n",
            "204 100\n",
            "361 100\n",
            "266 100\n",
            "106 100\n",
            "438 100\n",
            "15 100\n",
            "11 100\n",
            "63 100\n",
            "24 100\n",
            "132 100\n",
            "1 100\n",
            "6 100\n",
            "547 100\n",
            "150 100\n",
            "10 100\n",
            "114 100\n",
            "101 100\n",
            "128 100\n",
            "13 100\n",
            "36 100\n",
            "214 100\n",
            "305 100\n",
            "74 100\n",
            "32 100\n",
            "60 100\n",
            "192 100\n",
            "52 100\n",
            "72 100\n",
            "41 100\n",
            "355 100\n",
            "184 100\n",
            "66 100\n",
            "99 100\n",
            "338 100\n",
            "230 100\n",
            "43 100\n",
            "281 100\n",
            "781 100\n",
            "329 100\n",
            "21 100\n",
            "30 100\n",
            "509 100\n",
            "13 100\n",
            "608 100\n",
            "207 100\n",
            "6 100\n",
            "57 100\n",
            "65 100\n",
            "77 100\n",
            "84 100\n",
            "9 100\n",
            "138 100\n",
            "125 100\n",
            "328 100\n",
            "1 100\n",
            "382 100\n",
            "259 100\n",
            "73 100\n",
            "771 100\n",
            "181 100\n",
            "588 100\n",
            "925 100\n",
            "526 100\n",
            "30 100\n",
            "117 100\n",
            "41 100\n",
            "1178 100\n",
            "125 100\n",
            "50 100\n",
            "338 100\n",
            "25 100\n",
            "208 100\n",
            "11 100\n",
            "454 100\n",
            "69 100\n",
            "111 100\n",
            "1 100\n",
            "367 100\n",
            "95 100\n",
            "35 100\n",
            "742 100\n",
            "53 100\n",
            "476 100\n",
            "209 100\n",
            "80 100\n",
            "7 100\n",
            "115 100\n",
            "118 100\n",
            "82 100\n",
            "65 100\n",
            "267 100\n",
            "261 100\n",
            "62 100\n",
            "124 100\n",
            "41 100\n",
            "179 100\n",
            "93 100\n",
            "264 100\n",
            "13 100\n",
            "54 100\n",
            "109 100\n",
            "629 100\n",
            "23 100\n",
            "70 100\n",
            "623 100\n",
            "14 100\n",
            "50 100\n",
            "364 100\n",
            "46 100\n",
            "74 100\n",
            "69 100\n",
            "53 100\n",
            "89 100\n",
            "134 100\n",
            "46 100\n",
            "7 100\n",
            "32 100\n",
            "379 100\n",
            "589 100\n",
            "133 100\n",
            "154 100\n",
            "82 100\n",
            "9 100\n",
            "97 100\n",
            "48 100\n",
            "20 100\n",
            "108 100\n",
            "50 100\n",
            "91 100\n",
            "1654 100\n",
            "187 100\n",
            "166 100\n",
            "78 100\n",
            "5 100\n",
            "53 100\n",
            "11 100\n",
            "111 100\n",
            "760 100\n",
            "79 100\n",
            "296 100\n",
            "76 100\n",
            "133 100\n",
            "116 100\n",
            "13 100\n",
            "238 100\n",
            "5 100\n",
            "191 100\n",
            "40 100\n",
            "23 100\n",
            "302 100\n",
            "176 100\n",
            "965 100\n",
            "64 100\n",
            "1852 100\n",
            "265 100\n",
            "6 100\n",
            "88 100\n",
            "394 100\n",
            "180 100\n",
            "69 100\n",
            "42 100\n",
            "105 100\n",
            "7 100\n",
            "604 100\n",
            "335 100\n",
            "97 100\n",
            "10 100\n",
            "167 100\n",
            "89 100\n",
            "79 100\n",
            "192 100\n",
            "776 100\n",
            "9 100\n",
            "53 100\n",
            "95 100\n",
            "199 100\n",
            "114 100\n",
            "103 100\n",
            "157 100\n",
            "85 100\n",
            "67 100\n",
            "7 100\n",
            "173 100\n",
            "6 100\n",
            "139 100\n",
            "173 100\n",
            "25 100\n",
            "116 100\n",
            "62 100\n",
            "330 100\n",
            "800 100\n",
            "14 100\n",
            "16 100\n",
            "44 100\n",
            "162 100\n",
            "106 100\n",
            "23 100\n",
            "147 100\n",
            "731 100\n",
            "93 100\n",
            "71 100\n",
            "47 100\n",
            "488 100\n",
            "57 100\n",
            "31 100\n",
            "23 100\n",
            "7 100\n",
            "249 100\n",
            "95 100\n",
            "391 100\n",
            "146 100\n",
            "12 100\n",
            "42 100\n",
            "46 100\n",
            "12 100\n",
            "121 100\n",
            "28 100\n",
            "35 100\n",
            "87 100\n",
            "64 100\n",
            "59 100\n",
            "12 100\n",
            "90 100\n",
            "56 100\n",
            "20 100\n",
            "56 100\n",
            "491 100\n",
            "27 100\n",
            "97 100\n",
            "115 100\n",
            "185 100\n",
            "12 100\n",
            "57 100\n",
            "18 100\n",
            "62 100\n",
            "91 100\n",
            "55 100\n",
            "75 100\n",
            "31 100\n",
            "10 100\n",
            "146 100\n",
            "27 100\n",
            "13 100\n",
            "81 100\n",
            "121 100\n",
            "89 100\n",
            "12 100\n",
            "30 100\n",
            "24 100\n",
            "77 100\n",
            "92 100\n",
            "242 100\n",
            "160 100\n",
            "21 100\n",
            "59 100\n",
            "144 100\n",
            "45 100\n",
            "117 100\n",
            "102 100\n",
            "300 100\n",
            "13 100\n",
            "182 100\n",
            "393 100\n",
            "17 100\n",
            "83 100\n",
            "322 100\n",
            "58 100\n",
            "190 100\n",
            "20 100\n",
            "42 100\n",
            "33 100\n",
            "50 100\n",
            "23 100\n",
            "529 100\n",
            "129 100\n",
            "173 100\n",
            "12 100\n",
            "170 100\n",
            "191 100\n",
            "563 100\n",
            "512 100\n",
            "15 100\n",
            "35 100\n",
            "62 100\n",
            "319 100\n",
            "48 100\n",
            "70 100\n",
            "195 100\n",
            "283 100\n",
            "127 100\n",
            "17 100\n",
            "346 100\n",
            "188 100\n",
            "105 100\n",
            "72 100\n",
            "11 100\n",
            "130 100\n",
            "141 100\n",
            "316 100\n",
            "16 100\n",
            "306 100\n",
            "579 100\n",
            "22 100\n",
            "93 100\n",
            "305 100\n",
            "13 100\n",
            "51 100\n",
            "110 100\n",
            "1403 100\n",
            "67 100\n",
            "89 100\n",
            "66 100\n",
            "33 100\n",
            "81 100\n",
            "280 100\n",
            "200 100\n",
            "11 100\n",
            "88 100\n",
            "175 100\n",
            "75 100\n",
            "249 100\n",
            "143 100\n",
            "265 100\n",
            "893 100\n",
            "134 100\n",
            "660 100\n",
            "16 100\n",
            "41 100\n",
            "111 100\n",
            "29 100\n",
            "234 100\n",
            "124 100\n",
            "64 100\n",
            "561 100\n",
            "130 100\n",
            "20 100\n",
            "39 100\n",
            "47 100\n",
            "12 100\n",
            "55 100\n",
            "97 100\n",
            "17 100\n",
            "20 100\n",
            "8 100\n",
            "18 100\n",
            "42 100\n",
            "25 100\n",
            "304 100\n",
            "76 100\n",
            "49 100\n",
            "133 100\n",
            "28 100\n",
            "40 100\n",
            "57 100\n",
            "113 100\n",
            "11 100\n",
            "57 100\n",
            "282 100\n",
            "12 100\n",
            "52 100\n",
            "23 100\n",
            "64 100\n",
            "299 100\n",
            "22 100\n",
            "75 100\n",
            "45 100\n",
            "17 100\n",
            "12 100\n",
            "16 100\n",
            "47 100\n",
            "323 100\n",
            "549 100\n",
            "55 100\n",
            "439 100\n",
            "29 100\n",
            "56 100\n",
            "39 100\n",
            "20 100\n",
            "92 100\n",
            "222 100\n",
            "818 100\n",
            "212 100\n",
            "279 100\n",
            "125 100\n",
            "38 100\n",
            "60 100\n",
            "50 100\n",
            "30 100\n",
            "285 100\n",
            "155 100\n",
            "195 100\n",
            "94 100\n",
            "62 100\n",
            "48 100\n",
            "182 100\n",
            "16 100\n",
            "38 100\n",
            "442 100\n",
            "1404 100\n",
            "36 100\n",
            "52 100\n",
            "50 100\n",
            "162 100\n",
            "9 100\n",
            "16 100\n",
            "96 100\n",
            "12 100\n",
            "103 100\n",
            "62 100\n",
            "12 100\n",
            "36 100\n",
            "25 100\n",
            "39 100\n",
            "12 100\n",
            "108 100\n",
            "179 100\n",
            "151 100\n",
            "34 100\n",
            "533 100\n",
            "82 100\n",
            "38 100\n",
            "124 100\n",
            "107 100\n",
            "76 100\n",
            "60 100\n",
            "49 100\n",
            "72 100\n",
            "467 100\n",
            "28 100\n",
            "54 100\n",
            "110 100\n",
            "46 100\n",
            "20 100\n",
            "56 100\n",
            "87 100\n",
            "75 100\n",
            "102 100\n",
            "12 100\n",
            "17 100\n",
            "127 100\n",
            "12 100\n",
            "41 100\n",
            "62 100\n",
            "103 100\n",
            "49 100\n",
            "309 100\n",
            "97 100\n",
            "21 100\n",
            "38 100\n",
            "30 100\n",
            "211 100\n"
          ]
        }
      ]
    },
    {
      "cell_type": "code",
      "source": [
        "spam_df_final.head()"
      ],
      "metadata": {
        "colab": {
          "base_uri": "https://localhost:8080/",
          "height": 424
        },
        "id": "xTgpd7KaSy0q",
        "outputId": "07084475-7ebd-42a6-e048-9530bad49657"
      },
      "execution_count": 30,
      "outputs": [
        {
          "output_type": "execute_result",
          "data": {
            "text/plain": [
              "      Unnamed: 0 label                                               text  \\\n",
              "1347        4423  spam  Subject: is your wife in pain\\r\\nstop the pain...   \n",
              "191         4619  spam  Subject: young sluts getting creamy facials fo...   \n",
              "3971        4789  spam  Subject: real - time alert for hot stock featu...   \n",
              "3961        5032  spam  Subject: craving for rolexes or omegas ?\\r\\nem...   \n",
              "4499        4239  spam  Subject: try cortizyte , a revolutionary weigh...   \n",
              "\n",
              "      label_num                                         clean_text  \\\n",
              "1347          1  Subject: is your wife in pain. stop the pain. ...   \n",
              "191           1  Subject: young sluts getting creamy facials fo...   \n",
              "3971          1  Subject: real - time alert for hot stock featu...   \n",
              "3961          1  Subject: craving for rolexes or omegas ?. empt...   \n",
              "4499          1  Subject: try cortizyte , a revolutionary weigh...   \n",
              "\n",
              "      text_length                                        BERT_output  \\\n",
              "1347          309  (tf.Tensor(-0.66220784, shape=(), dtype=float3...   \n",
              "191           144  (tf.Tensor(-0.62916726, shape=(), dtype=float3...   \n",
              "3971         4120  (tf.Tensor(-0.60679173, shape=(), dtype=float3...   \n",
              "3961         1660  (tf.Tensor(-0.5414106, shape=(), dtype=float32...   \n",
              "4499          559  (tf.Tensor(-0.7903552, shape=(), dtype=float32...   \n",
              "\n",
              "                                         text_w2v_input  \\\n",
              "1347  [subject, is, your, wife, in, pain, stop, the,...   \n",
              "191   [subject, young, sluts, getting, creamy, facia...   \n",
              "3971  [subject, real, time, alert, for, hot, stock, ...   \n",
              "3961  [subject, craving, for, rolexes, or, omegas, e...   \n",
              "4499  [subject, try, cortizyte, revolutionary, weigh...   \n",
              "\n",
              "                                             w2v_output  \n",
              "1347  [-0.7773241, -0.028775526, 0.23354693, 0.34879...  \n",
              "191   [-0.81515855, -0.042400777, 0.2503332, 0.38154...  \n",
              "3971  [-0.82275397, -0.026751796, 0.24303724, 0.3726...  \n",
              "3961  [-0.94489324, -0.028019296, 0.27957302, 0.4287...  \n",
              "4499  [-0.652256, -0.027082026, 0.1878234, 0.2854014...  "
            ],
            "text/html": [
              "\n",
              "  <div id=\"df-d8427e08-bf8b-4fd5-8a43-4c451772f702\">\n",
              "    <div class=\"colab-df-container\">\n",
              "      <div>\n",
              "<style scoped>\n",
              "    .dataframe tbody tr th:only-of-type {\n",
              "        vertical-align: middle;\n",
              "    }\n",
              "\n",
              "    .dataframe tbody tr th {\n",
              "        vertical-align: top;\n",
              "    }\n",
              "\n",
              "    .dataframe thead th {\n",
              "        text-align: right;\n",
              "    }\n",
              "</style>\n",
              "<table border=\"1\" class=\"dataframe\">\n",
              "  <thead>\n",
              "    <tr style=\"text-align: right;\">\n",
              "      <th></th>\n",
              "      <th>Unnamed: 0</th>\n",
              "      <th>label</th>\n",
              "      <th>text</th>\n",
              "      <th>label_num</th>\n",
              "      <th>clean_text</th>\n",
              "      <th>text_length</th>\n",
              "      <th>BERT_output</th>\n",
              "      <th>text_w2v_input</th>\n",
              "      <th>w2v_output</th>\n",
              "    </tr>\n",
              "  </thead>\n",
              "  <tbody>\n",
              "    <tr>\n",
              "      <th>1347</th>\n",
              "      <td>4423</td>\n",
              "      <td>spam</td>\n",
              "      <td>Subject: is your wife in pain\\r\\nstop the pain...</td>\n",
              "      <td>1</td>\n",
              "      <td>Subject: is your wife in pain. stop the pain. ...</td>\n",
              "      <td>309</td>\n",
              "      <td>(tf.Tensor(-0.66220784, shape=(), dtype=float3...</td>\n",
              "      <td>[subject, is, your, wife, in, pain, stop, the,...</td>\n",
              "      <td>[-0.7773241, -0.028775526, 0.23354693, 0.34879...</td>\n",
              "    </tr>\n",
              "    <tr>\n",
              "      <th>191</th>\n",
              "      <td>4619</td>\n",
              "      <td>spam</td>\n",
              "      <td>Subject: young sluts getting creamy facials fo...</td>\n",
              "      <td>1</td>\n",
              "      <td>Subject: young sluts getting creamy facials fo...</td>\n",
              "      <td>144</td>\n",
              "      <td>(tf.Tensor(-0.62916726, shape=(), dtype=float3...</td>\n",
              "      <td>[subject, young, sluts, getting, creamy, facia...</td>\n",
              "      <td>[-0.81515855, -0.042400777, 0.2503332, 0.38154...</td>\n",
              "    </tr>\n",
              "    <tr>\n",
              "      <th>3971</th>\n",
              "      <td>4789</td>\n",
              "      <td>spam</td>\n",
              "      <td>Subject: real - time alert for hot stock featu...</td>\n",
              "      <td>1</td>\n",
              "      <td>Subject: real - time alert for hot stock featu...</td>\n",
              "      <td>4120</td>\n",
              "      <td>(tf.Tensor(-0.60679173, shape=(), dtype=float3...</td>\n",
              "      <td>[subject, real, time, alert, for, hot, stock, ...</td>\n",
              "      <td>[-0.82275397, -0.026751796, 0.24303724, 0.3726...</td>\n",
              "    </tr>\n",
              "    <tr>\n",
              "      <th>3961</th>\n",
              "      <td>5032</td>\n",
              "      <td>spam</td>\n",
              "      <td>Subject: craving for rolexes or omegas ?\\r\\nem...</td>\n",
              "      <td>1</td>\n",
              "      <td>Subject: craving for rolexes or omegas ?. empt...</td>\n",
              "      <td>1660</td>\n",
              "      <td>(tf.Tensor(-0.5414106, shape=(), dtype=float32...</td>\n",
              "      <td>[subject, craving, for, rolexes, or, omegas, e...</td>\n",
              "      <td>[-0.94489324, -0.028019296, 0.27957302, 0.4287...</td>\n",
              "    </tr>\n",
              "    <tr>\n",
              "      <th>4499</th>\n",
              "      <td>4239</td>\n",
              "      <td>spam</td>\n",
              "      <td>Subject: try cortizyte , a revolutionary weigh...</td>\n",
              "      <td>1</td>\n",
              "      <td>Subject: try cortizyte , a revolutionary weigh...</td>\n",
              "      <td>559</td>\n",
              "      <td>(tf.Tensor(-0.7903552, shape=(), dtype=float32...</td>\n",
              "      <td>[subject, try, cortizyte, revolutionary, weigh...</td>\n",
              "      <td>[-0.652256, -0.027082026, 0.1878234, 0.2854014...</td>\n",
              "    </tr>\n",
              "  </tbody>\n",
              "</table>\n",
              "</div>\n",
              "      <button class=\"colab-df-convert\" onclick=\"convertToInteractive('df-d8427e08-bf8b-4fd5-8a43-4c451772f702')\"\n",
              "              title=\"Convert this dataframe to an interactive table.\"\n",
              "              style=\"display:none;\">\n",
              "        \n",
              "  <svg xmlns=\"http://www.w3.org/2000/svg\" height=\"24px\"viewBox=\"0 0 24 24\"\n",
              "       width=\"24px\">\n",
              "    <path d=\"M0 0h24v24H0V0z\" fill=\"none\"/>\n",
              "    <path d=\"M18.56 5.44l.94 2.06.94-2.06 2.06-.94-2.06-.94-.94-2.06-.94 2.06-2.06.94zm-11 1L8.5 8.5l.94-2.06 2.06-.94-2.06-.94L8.5 2.5l-.94 2.06-2.06.94zm10 10l.94 2.06.94-2.06 2.06-.94-2.06-.94-.94-2.06-.94 2.06-2.06.94z\"/><path d=\"M17.41 7.96l-1.37-1.37c-.4-.4-.92-.59-1.43-.59-.52 0-1.04.2-1.43.59L10.3 9.45l-7.72 7.72c-.78.78-.78 2.05 0 2.83L4 21.41c.39.39.9.59 1.41.59.51 0 1.02-.2 1.41-.59l7.78-7.78 2.81-2.81c.8-.78.8-2.07 0-2.86zM5.41 20L4 18.59l7.72-7.72 1.47 1.35L5.41 20z\"/>\n",
              "  </svg>\n",
              "      </button>\n",
              "      \n",
              "  <style>\n",
              "    .colab-df-container {\n",
              "      display:flex;\n",
              "      flex-wrap:wrap;\n",
              "      gap: 12px;\n",
              "    }\n",
              "\n",
              "    .colab-df-convert {\n",
              "      background-color: #E8F0FE;\n",
              "      border: none;\n",
              "      border-radius: 50%;\n",
              "      cursor: pointer;\n",
              "      display: none;\n",
              "      fill: #1967D2;\n",
              "      height: 32px;\n",
              "      padding: 0 0 0 0;\n",
              "      width: 32px;\n",
              "    }\n",
              "\n",
              "    .colab-df-convert:hover {\n",
              "      background-color: #E2EBFA;\n",
              "      box-shadow: 0px 1px 2px rgba(60, 64, 67, 0.3), 0px 1px 3px 1px rgba(60, 64, 67, 0.15);\n",
              "      fill: #174EA6;\n",
              "    }\n",
              "\n",
              "    [theme=dark] .colab-df-convert {\n",
              "      background-color: #3B4455;\n",
              "      fill: #D2E3FC;\n",
              "    }\n",
              "\n",
              "    [theme=dark] .colab-df-convert:hover {\n",
              "      background-color: #434B5C;\n",
              "      box-shadow: 0px 1px 3px 1px rgba(0, 0, 0, 0.15);\n",
              "      filter: drop-shadow(0px 1px 2px rgba(0, 0, 0, 0.3));\n",
              "      fill: #FFFFFF;\n",
              "    }\n",
              "  </style>\n",
              "\n",
              "      <script>\n",
              "        const buttonEl =\n",
              "          document.querySelector('#df-d8427e08-bf8b-4fd5-8a43-4c451772f702 button.colab-df-convert');\n",
              "        buttonEl.style.display =\n",
              "          google.colab.kernel.accessAllowed ? 'block' : 'none';\n",
              "\n",
              "        async function convertToInteractive(key) {\n",
              "          const element = document.querySelector('#df-d8427e08-bf8b-4fd5-8a43-4c451772f702');\n",
              "          const dataTable =\n",
              "            await google.colab.kernel.invokeFunction('convertToInteractive',\n",
              "                                                     [key], {});\n",
              "          if (!dataTable) return;\n",
              "\n",
              "          const docLinkHtml = 'Like what you see? Visit the ' +\n",
              "            '<a target=\"_blank\" href=https://colab.research.google.com/notebooks/data_table.ipynb>data table notebook</a>'\n",
              "            + ' to learn more about interactive tables.';\n",
              "          element.innerHTML = '';\n",
              "          dataTable['output_type'] = 'display_data';\n",
              "          await google.colab.output.renderOutput(dataTable, element);\n",
              "          const docLink = document.createElement('div');\n",
              "          docLink.innerHTML = docLinkHtml;\n",
              "          element.appendChild(docLink);\n",
              "        }\n",
              "      </script>\n",
              "    </div>\n",
              "  </div>\n",
              "  "
            ]
          },
          "metadata": {},
          "execution_count": 30
        }
      ]
    },
    {
      "cell_type": "code",
      "source": [
        "type(spam_df_final.iloc[0,6])"
      ],
      "metadata": {
        "colab": {
          "base_uri": "https://localhost:8080/"
        },
        "id": "Q1SatGZvTEqk",
        "outputId": "df7eabc7-4b7b-4839-b385-5472a108c839"
      },
      "execution_count": 31,
      "outputs": [
        {
          "output_type": "execute_result",
          "data": {
            "text/plain": [
              "tensorflow.python.framework.ops.EagerTensor"
            ]
          },
          "metadata": {},
          "execution_count": 31
        }
      ]
    },
    {
      "cell_type": "code",
      "source": [
        "spam_df_final['BERT_output_array'] = spam_df_final['BERT_output'].map(lambda name:name.numpy())"
      ],
      "metadata": {
        "id": "FtJCXPwxUYJH"
      },
      "execution_count": 32,
      "outputs": []
    },
    {
      "cell_type": "code",
      "source": [
        "spam_df_final.head()"
      ],
      "metadata": {
        "colab": {
          "base_uri": "https://localhost:8080/",
          "height": 528
        },
        "id": "1HWbYZ3aUmzt",
        "outputId": "036af754-bfe4-472d-e106-9e41c43f9d2f"
      },
      "execution_count": 33,
      "outputs": [
        {
          "output_type": "execute_result",
          "data": {
            "text/plain": [
              "      Unnamed: 0 label                                               text  \\\n",
              "1347        4423  spam  Subject: is your wife in pain\\r\\nstop the pain...   \n",
              "191         4619  spam  Subject: young sluts getting creamy facials fo...   \n",
              "3971        4789  spam  Subject: real - time alert for hot stock featu...   \n",
              "3961        5032  spam  Subject: craving for rolexes or omegas ?\\r\\nem...   \n",
              "4499        4239  spam  Subject: try cortizyte , a revolutionary weigh...   \n",
              "\n",
              "      label_num                                         clean_text  \\\n",
              "1347          1  Subject: is your wife in pain. stop the pain. ...   \n",
              "191           1  Subject: young sluts getting creamy facials fo...   \n",
              "3971          1  Subject: real - time alert for hot stock featu...   \n",
              "3961          1  Subject: craving for rolexes or omegas ?. empt...   \n",
              "4499          1  Subject: try cortizyte , a revolutionary weigh...   \n",
              "\n",
              "      text_length                                        BERT_output  \\\n",
              "1347          309  (tf.Tensor(-0.66220784, shape=(), dtype=float3...   \n",
              "191           144  (tf.Tensor(-0.62916726, shape=(), dtype=float3...   \n",
              "3971         4120  (tf.Tensor(-0.60679173, shape=(), dtype=float3...   \n",
              "3961         1660  (tf.Tensor(-0.5414106, shape=(), dtype=float32...   \n",
              "4499          559  (tf.Tensor(-0.7903552, shape=(), dtype=float32...   \n",
              "\n",
              "                                         text_w2v_input  \\\n",
              "1347  [subject, is, your, wife, in, pain, stop, the,...   \n",
              "191   [subject, young, sluts, getting, creamy, facia...   \n",
              "3971  [subject, real, time, alert, for, hot, stock, ...   \n",
              "3961  [subject, craving, for, rolexes, or, omegas, e...   \n",
              "4499  [subject, try, cortizyte, revolutionary, weigh...   \n",
              "\n",
              "                                             w2v_output  \\\n",
              "1347  [-0.7773241, -0.028775526, 0.23354693, 0.34879...   \n",
              "191   [-0.81515855, -0.042400777, 0.2503332, 0.38154...   \n",
              "3971  [-0.82275397, -0.026751796, 0.24303724, 0.3726...   \n",
              "3961  [-0.94489324, -0.028019296, 0.27957302, 0.4287...   \n",
              "4499  [-0.652256, -0.027082026, 0.1878234, 0.2854014...   \n",
              "\n",
              "                                      BERT_output_array  \n",
              "1347  [-0.66220784, -0.21042265, -0.69894105, 0.4461...  \n",
              "191   [-0.62916726, -0.43002403, -0.748989, 0.363675...  \n",
              "3971  [-0.60679173, -0.3678604, -0.77422667, 0.46082...  \n",
              "3961  [-0.5414106, -0.54300076, -0.9778723, 0.620954...  \n",
              "4499  [-0.7903552, -0.58141476, -0.9750504, 0.643725...  "
            ],
            "text/html": [
              "\n",
              "  <div id=\"df-eeebe174-2e09-4990-8abb-b78d7f3d085c\">\n",
              "    <div class=\"colab-df-container\">\n",
              "      <div>\n",
              "<style scoped>\n",
              "    .dataframe tbody tr th:only-of-type {\n",
              "        vertical-align: middle;\n",
              "    }\n",
              "\n",
              "    .dataframe tbody tr th {\n",
              "        vertical-align: top;\n",
              "    }\n",
              "\n",
              "    .dataframe thead th {\n",
              "        text-align: right;\n",
              "    }\n",
              "</style>\n",
              "<table border=\"1\" class=\"dataframe\">\n",
              "  <thead>\n",
              "    <tr style=\"text-align: right;\">\n",
              "      <th></th>\n",
              "      <th>Unnamed: 0</th>\n",
              "      <th>label</th>\n",
              "      <th>text</th>\n",
              "      <th>label_num</th>\n",
              "      <th>clean_text</th>\n",
              "      <th>text_length</th>\n",
              "      <th>BERT_output</th>\n",
              "      <th>text_w2v_input</th>\n",
              "      <th>w2v_output</th>\n",
              "      <th>BERT_output_array</th>\n",
              "    </tr>\n",
              "  </thead>\n",
              "  <tbody>\n",
              "    <tr>\n",
              "      <th>1347</th>\n",
              "      <td>4423</td>\n",
              "      <td>spam</td>\n",
              "      <td>Subject: is your wife in pain\\r\\nstop the pain...</td>\n",
              "      <td>1</td>\n",
              "      <td>Subject: is your wife in pain. stop the pain. ...</td>\n",
              "      <td>309</td>\n",
              "      <td>(tf.Tensor(-0.66220784, shape=(), dtype=float3...</td>\n",
              "      <td>[subject, is, your, wife, in, pain, stop, the,...</td>\n",
              "      <td>[-0.7773241, -0.028775526, 0.23354693, 0.34879...</td>\n",
              "      <td>[-0.66220784, -0.21042265, -0.69894105, 0.4461...</td>\n",
              "    </tr>\n",
              "    <tr>\n",
              "      <th>191</th>\n",
              "      <td>4619</td>\n",
              "      <td>spam</td>\n",
              "      <td>Subject: young sluts getting creamy facials fo...</td>\n",
              "      <td>1</td>\n",
              "      <td>Subject: young sluts getting creamy facials fo...</td>\n",
              "      <td>144</td>\n",
              "      <td>(tf.Tensor(-0.62916726, shape=(), dtype=float3...</td>\n",
              "      <td>[subject, young, sluts, getting, creamy, facia...</td>\n",
              "      <td>[-0.81515855, -0.042400777, 0.2503332, 0.38154...</td>\n",
              "      <td>[-0.62916726, -0.43002403, -0.748989, 0.363675...</td>\n",
              "    </tr>\n",
              "    <tr>\n",
              "      <th>3971</th>\n",
              "      <td>4789</td>\n",
              "      <td>spam</td>\n",
              "      <td>Subject: real - time alert for hot stock featu...</td>\n",
              "      <td>1</td>\n",
              "      <td>Subject: real - time alert for hot stock featu...</td>\n",
              "      <td>4120</td>\n",
              "      <td>(tf.Tensor(-0.60679173, shape=(), dtype=float3...</td>\n",
              "      <td>[subject, real, time, alert, for, hot, stock, ...</td>\n",
              "      <td>[-0.82275397, -0.026751796, 0.24303724, 0.3726...</td>\n",
              "      <td>[-0.60679173, -0.3678604, -0.77422667, 0.46082...</td>\n",
              "    </tr>\n",
              "    <tr>\n",
              "      <th>3961</th>\n",
              "      <td>5032</td>\n",
              "      <td>spam</td>\n",
              "      <td>Subject: craving for rolexes or omegas ?\\r\\nem...</td>\n",
              "      <td>1</td>\n",
              "      <td>Subject: craving for rolexes or omegas ?. empt...</td>\n",
              "      <td>1660</td>\n",
              "      <td>(tf.Tensor(-0.5414106, shape=(), dtype=float32...</td>\n",
              "      <td>[subject, craving, for, rolexes, or, omegas, e...</td>\n",
              "      <td>[-0.94489324, -0.028019296, 0.27957302, 0.4287...</td>\n",
              "      <td>[-0.5414106, -0.54300076, -0.9778723, 0.620954...</td>\n",
              "    </tr>\n",
              "    <tr>\n",
              "      <th>4499</th>\n",
              "      <td>4239</td>\n",
              "      <td>spam</td>\n",
              "      <td>Subject: try cortizyte , a revolutionary weigh...</td>\n",
              "      <td>1</td>\n",
              "      <td>Subject: try cortizyte , a revolutionary weigh...</td>\n",
              "      <td>559</td>\n",
              "      <td>(tf.Tensor(-0.7903552, shape=(), dtype=float32...</td>\n",
              "      <td>[subject, try, cortizyte, revolutionary, weigh...</td>\n",
              "      <td>[-0.652256, -0.027082026, 0.1878234, 0.2854014...</td>\n",
              "      <td>[-0.7903552, -0.58141476, -0.9750504, 0.643725...</td>\n",
              "    </tr>\n",
              "  </tbody>\n",
              "</table>\n",
              "</div>\n",
              "      <button class=\"colab-df-convert\" onclick=\"convertToInteractive('df-eeebe174-2e09-4990-8abb-b78d7f3d085c')\"\n",
              "              title=\"Convert this dataframe to an interactive table.\"\n",
              "              style=\"display:none;\">\n",
              "        \n",
              "  <svg xmlns=\"http://www.w3.org/2000/svg\" height=\"24px\"viewBox=\"0 0 24 24\"\n",
              "       width=\"24px\">\n",
              "    <path d=\"M0 0h24v24H0V0z\" fill=\"none\"/>\n",
              "    <path d=\"M18.56 5.44l.94 2.06.94-2.06 2.06-.94-2.06-.94-.94-2.06-.94 2.06-2.06.94zm-11 1L8.5 8.5l.94-2.06 2.06-.94-2.06-.94L8.5 2.5l-.94 2.06-2.06.94zm10 10l.94 2.06.94-2.06 2.06-.94-2.06-.94-.94-2.06-.94 2.06-2.06.94z\"/><path d=\"M17.41 7.96l-1.37-1.37c-.4-.4-.92-.59-1.43-.59-.52 0-1.04.2-1.43.59L10.3 9.45l-7.72 7.72c-.78.78-.78 2.05 0 2.83L4 21.41c.39.39.9.59 1.41.59.51 0 1.02-.2 1.41-.59l7.78-7.78 2.81-2.81c.8-.78.8-2.07 0-2.86zM5.41 20L4 18.59l7.72-7.72 1.47 1.35L5.41 20z\"/>\n",
              "  </svg>\n",
              "      </button>\n",
              "      \n",
              "  <style>\n",
              "    .colab-df-container {\n",
              "      display:flex;\n",
              "      flex-wrap:wrap;\n",
              "      gap: 12px;\n",
              "    }\n",
              "\n",
              "    .colab-df-convert {\n",
              "      background-color: #E8F0FE;\n",
              "      border: none;\n",
              "      border-radius: 50%;\n",
              "      cursor: pointer;\n",
              "      display: none;\n",
              "      fill: #1967D2;\n",
              "      height: 32px;\n",
              "      padding: 0 0 0 0;\n",
              "      width: 32px;\n",
              "    }\n",
              "\n",
              "    .colab-df-convert:hover {\n",
              "      background-color: #E2EBFA;\n",
              "      box-shadow: 0px 1px 2px rgba(60, 64, 67, 0.3), 0px 1px 3px 1px rgba(60, 64, 67, 0.15);\n",
              "      fill: #174EA6;\n",
              "    }\n",
              "\n",
              "    [theme=dark] .colab-df-convert {\n",
              "      background-color: #3B4455;\n",
              "      fill: #D2E3FC;\n",
              "    }\n",
              "\n",
              "    [theme=dark] .colab-df-convert:hover {\n",
              "      background-color: #434B5C;\n",
              "      box-shadow: 0px 1px 3px 1px rgba(0, 0, 0, 0.15);\n",
              "      filter: drop-shadow(0px 1px 2px rgba(0, 0, 0, 0.3));\n",
              "      fill: #FFFFFF;\n",
              "    }\n",
              "  </style>\n",
              "\n",
              "      <script>\n",
              "        const buttonEl =\n",
              "          document.querySelector('#df-eeebe174-2e09-4990-8abb-b78d7f3d085c button.colab-df-convert');\n",
              "        buttonEl.style.display =\n",
              "          google.colab.kernel.accessAllowed ? 'block' : 'none';\n",
              "\n",
              "        async function convertToInteractive(key) {\n",
              "          const element = document.querySelector('#df-eeebe174-2e09-4990-8abb-b78d7f3d085c');\n",
              "          const dataTable =\n",
              "            await google.colab.kernel.invokeFunction('convertToInteractive',\n",
              "                                                     [key], {});\n",
              "          if (!dataTable) return;\n",
              "\n",
              "          const docLinkHtml = 'Like what you see? Visit the ' +\n",
              "            '<a target=\"_blank\" href=https://colab.research.google.com/notebooks/data_table.ipynb>data table notebook</a>'\n",
              "            + ' to learn more about interactive tables.';\n",
              "          element.innerHTML = '';\n",
              "          dataTable['output_type'] = 'display_data';\n",
              "          await google.colab.output.renderOutput(dataTable, element);\n",
              "          const docLink = document.createElement('div');\n",
              "          docLink.innerHTML = docLinkHtml;\n",
              "          element.appendChild(docLink);\n",
              "        }\n",
              "      </script>\n",
              "    </div>\n",
              "  </div>\n",
              "  "
            ]
          },
          "metadata": {},
          "execution_count": 33
        }
      ]
    },
    {
      "cell_type": "code",
      "source": [
        "#Albert embedding\n",
        "#ALBERT preprocessor and ALBERT encoder\n",
        "albert_preprocess = hub.KerasLayer(\"http://tfhub.dev/tensorflow/albert_en_preprocess/3\")\n",
        "albert_encoder = hub.KerasLayer(\"https://tfhub.dev/tensorflow/albert_en_base/3\")"
      ],
      "metadata": {
        "id": "DQhhzoY3TOC6"
      },
      "execution_count": 34,
      "outputs": []
    },
    {
      "cell_type": "code",
      "source": [
        "def get_albert_sentence_embeding(sentences):\n",
        "    preprocessed_text = albert_preprocess(sentences)\n",
        "    return albert_encoder(preprocessed_text)['pooled_output']"
      ],
      "metadata": {
        "id": "ju2P5Ks6UOyu"
      },
      "execution_count": 35,
      "outputs": []
    },
    {
      "cell_type": "code",
      "source": [
        "spam_df_final['ALBERT_output'] = [x for x in get_albert_sentence_embeding(spam_df_final['clean_text'])]"
      ],
      "metadata": {
        "id": "i7yHT2pMVs61"
      },
      "execution_count": 36,
      "outputs": []
    },
    {
      "cell_type": "code",
      "source": [
        "spam_df_final['ALBERT_output_array'] = spam_df_final['ALBERT_output'].map(lambda name:name.numpy())"
      ],
      "metadata": {
        "id": "UFnYOA9OYUvW"
      },
      "execution_count": 38,
      "outputs": []
    },
    {
      "cell_type": "code",
      "source": [
        "spam_df_final.head()"
      ],
      "metadata": {
        "colab": {
          "base_uri": "https://localhost:8080/",
          "height": 583
        },
        "id": "lFNGiWwGYdKf",
        "outputId": "4caa017c-e1d3-453c-e435-968583457a85"
      },
      "execution_count": 39,
      "outputs": [
        {
          "output_type": "execute_result",
          "data": {
            "text/plain": [
              "      Unnamed: 0 label                                               text  \\\n",
              "1347        4423  spam  Subject: is your wife in pain\\r\\nstop the pain...   \n",
              "191         4619  spam  Subject: young sluts getting creamy facials fo...   \n",
              "3971        4789  spam  Subject: real - time alert for hot stock featu...   \n",
              "3961        5032  spam  Subject: craving for rolexes or omegas ?\\r\\nem...   \n",
              "4499        4239  spam  Subject: try cortizyte , a revolutionary weigh...   \n",
              "\n",
              "      label_num                                         clean_text  \\\n",
              "1347          1  Subject: is your wife in pain. stop the pain. ...   \n",
              "191           1  Subject: young sluts getting creamy facials fo...   \n",
              "3971          1  Subject: real - time alert for hot stock featu...   \n",
              "3961          1  Subject: craving for rolexes or omegas ?. empt...   \n",
              "4499          1  Subject: try cortizyte , a revolutionary weigh...   \n",
              "\n",
              "      text_length                                        BERT_output  \\\n",
              "1347          309  (tf.Tensor(-0.66220784, shape=(), dtype=float3...   \n",
              "191           144  (tf.Tensor(-0.62916726, shape=(), dtype=float3...   \n",
              "3971         4120  (tf.Tensor(-0.60679173, shape=(), dtype=float3...   \n",
              "3961         1660  (tf.Tensor(-0.5414106, shape=(), dtype=float32...   \n",
              "4499          559  (tf.Tensor(-0.7903552, shape=(), dtype=float32...   \n",
              "\n",
              "                                         text_w2v_input  \\\n",
              "1347  [subject, is, your, wife, in, pain, stop, the,...   \n",
              "191   [subject, young, sluts, getting, creamy, facia...   \n",
              "3971  [subject, real, time, alert, for, hot, stock, ...   \n",
              "3961  [subject, craving, for, rolexes, or, omegas, e...   \n",
              "4499  [subject, try, cortizyte, revolutionary, weigh...   \n",
              "\n",
              "                                             w2v_output  \\\n",
              "1347  [-0.7773241, -0.028775526, 0.23354693, 0.34879...   \n",
              "191   [-0.81515855, -0.042400777, 0.2503332, 0.38154...   \n",
              "3971  [-0.82275397, -0.026751796, 0.24303724, 0.3726...   \n",
              "3961  [-0.94489324, -0.028019296, 0.27957302, 0.4287...   \n",
              "4499  [-0.652256, -0.027082026, 0.1878234, 0.2854014...   \n",
              "\n",
              "                                      BERT_output_array  \\\n",
              "1347  [-0.66220784, -0.21042265, -0.69894105, 0.4461...   \n",
              "191   [-0.62916726, -0.43002403, -0.748989, 0.363675...   \n",
              "3971  [-0.60679173, -0.3678604, -0.77422667, 0.46082...   \n",
              "3961  [-0.5414106, -0.54300076, -0.9778723, 0.620954...   \n",
              "4499  [-0.7903552, -0.58141476, -0.9750504, 0.643725...   \n",
              "\n",
              "                                          ALBERT_output  \\\n",
              "1347  (tf.Tensor(0.53995717, shape=(), dtype=float32...   \n",
              "191   (tf.Tensor(0.6074936, shape=(), dtype=float32)...   \n",
              "3971  (tf.Tensor(0.7890521, shape=(), dtype=float32)...   \n",
              "3961  (tf.Tensor(0.4502093, shape=(), dtype=float32)...   \n",
              "4499  (tf.Tensor(0.629446, shape=(), dtype=float32),...   \n",
              "\n",
              "                                    ALBERT_output_array  \n",
              "1347  [0.53995717, -0.56981885, -0.98754895, -0.3067...  \n",
              "191   [0.6074936, -0.6763085, -0.96309423, 0.0338184...  \n",
              "3971  [0.7890521, -0.8926711, -0.98849905, -0.099861...  \n",
              "3961  [0.4502093, -0.5150742, -0.997151, -0.61924064...  \n",
              "4499  [0.629446, -0.73356396, -0.9876126, 0.06124072...  "
            ],
            "text/html": [
              "\n",
              "  <div id=\"df-9050aeee-7fa3-4bee-8d67-93f628e9b1f1\">\n",
              "    <div class=\"colab-df-container\">\n",
              "      <div>\n",
              "<style scoped>\n",
              "    .dataframe tbody tr th:only-of-type {\n",
              "        vertical-align: middle;\n",
              "    }\n",
              "\n",
              "    .dataframe tbody tr th {\n",
              "        vertical-align: top;\n",
              "    }\n",
              "\n",
              "    .dataframe thead th {\n",
              "        text-align: right;\n",
              "    }\n",
              "</style>\n",
              "<table border=\"1\" class=\"dataframe\">\n",
              "  <thead>\n",
              "    <tr style=\"text-align: right;\">\n",
              "      <th></th>\n",
              "      <th>Unnamed: 0</th>\n",
              "      <th>label</th>\n",
              "      <th>text</th>\n",
              "      <th>label_num</th>\n",
              "      <th>clean_text</th>\n",
              "      <th>text_length</th>\n",
              "      <th>BERT_output</th>\n",
              "      <th>text_w2v_input</th>\n",
              "      <th>w2v_output</th>\n",
              "      <th>BERT_output_array</th>\n",
              "      <th>ALBERT_output</th>\n",
              "      <th>ALBERT_output_array</th>\n",
              "    </tr>\n",
              "  </thead>\n",
              "  <tbody>\n",
              "    <tr>\n",
              "      <th>1347</th>\n",
              "      <td>4423</td>\n",
              "      <td>spam</td>\n",
              "      <td>Subject: is your wife in pain\\r\\nstop the pain...</td>\n",
              "      <td>1</td>\n",
              "      <td>Subject: is your wife in pain. stop the pain. ...</td>\n",
              "      <td>309</td>\n",
              "      <td>(tf.Tensor(-0.66220784, shape=(), dtype=float3...</td>\n",
              "      <td>[subject, is, your, wife, in, pain, stop, the,...</td>\n",
              "      <td>[-0.7773241, -0.028775526, 0.23354693, 0.34879...</td>\n",
              "      <td>[-0.66220784, -0.21042265, -0.69894105, 0.4461...</td>\n",
              "      <td>(tf.Tensor(0.53995717, shape=(), dtype=float32...</td>\n",
              "      <td>[0.53995717, -0.56981885, -0.98754895, -0.3067...</td>\n",
              "    </tr>\n",
              "    <tr>\n",
              "      <th>191</th>\n",
              "      <td>4619</td>\n",
              "      <td>spam</td>\n",
              "      <td>Subject: young sluts getting creamy facials fo...</td>\n",
              "      <td>1</td>\n",
              "      <td>Subject: young sluts getting creamy facials fo...</td>\n",
              "      <td>144</td>\n",
              "      <td>(tf.Tensor(-0.62916726, shape=(), dtype=float3...</td>\n",
              "      <td>[subject, young, sluts, getting, creamy, facia...</td>\n",
              "      <td>[-0.81515855, -0.042400777, 0.2503332, 0.38154...</td>\n",
              "      <td>[-0.62916726, -0.43002403, -0.748989, 0.363675...</td>\n",
              "      <td>(tf.Tensor(0.6074936, shape=(), dtype=float32)...</td>\n",
              "      <td>[0.6074936, -0.6763085, -0.96309423, 0.0338184...</td>\n",
              "    </tr>\n",
              "    <tr>\n",
              "      <th>3971</th>\n",
              "      <td>4789</td>\n",
              "      <td>spam</td>\n",
              "      <td>Subject: real - time alert for hot stock featu...</td>\n",
              "      <td>1</td>\n",
              "      <td>Subject: real - time alert for hot stock featu...</td>\n",
              "      <td>4120</td>\n",
              "      <td>(tf.Tensor(-0.60679173, shape=(), dtype=float3...</td>\n",
              "      <td>[subject, real, time, alert, for, hot, stock, ...</td>\n",
              "      <td>[-0.82275397, -0.026751796, 0.24303724, 0.3726...</td>\n",
              "      <td>[-0.60679173, -0.3678604, -0.77422667, 0.46082...</td>\n",
              "      <td>(tf.Tensor(0.7890521, shape=(), dtype=float32)...</td>\n",
              "      <td>[0.7890521, -0.8926711, -0.98849905, -0.099861...</td>\n",
              "    </tr>\n",
              "    <tr>\n",
              "      <th>3961</th>\n",
              "      <td>5032</td>\n",
              "      <td>spam</td>\n",
              "      <td>Subject: craving for rolexes or omegas ?\\r\\nem...</td>\n",
              "      <td>1</td>\n",
              "      <td>Subject: craving for rolexes or omegas ?. empt...</td>\n",
              "      <td>1660</td>\n",
              "      <td>(tf.Tensor(-0.5414106, shape=(), dtype=float32...</td>\n",
              "      <td>[subject, craving, for, rolexes, or, omegas, e...</td>\n",
              "      <td>[-0.94489324, -0.028019296, 0.27957302, 0.4287...</td>\n",
              "      <td>[-0.5414106, -0.54300076, -0.9778723, 0.620954...</td>\n",
              "      <td>(tf.Tensor(0.4502093, shape=(), dtype=float32)...</td>\n",
              "      <td>[0.4502093, -0.5150742, -0.997151, -0.61924064...</td>\n",
              "    </tr>\n",
              "    <tr>\n",
              "      <th>4499</th>\n",
              "      <td>4239</td>\n",
              "      <td>spam</td>\n",
              "      <td>Subject: try cortizyte , a revolutionary weigh...</td>\n",
              "      <td>1</td>\n",
              "      <td>Subject: try cortizyte , a revolutionary weigh...</td>\n",
              "      <td>559</td>\n",
              "      <td>(tf.Tensor(-0.7903552, shape=(), dtype=float32...</td>\n",
              "      <td>[subject, try, cortizyte, revolutionary, weigh...</td>\n",
              "      <td>[-0.652256, -0.027082026, 0.1878234, 0.2854014...</td>\n",
              "      <td>[-0.7903552, -0.58141476, -0.9750504, 0.643725...</td>\n",
              "      <td>(tf.Tensor(0.629446, shape=(), dtype=float32),...</td>\n",
              "      <td>[0.629446, -0.73356396, -0.9876126, 0.06124072...</td>\n",
              "    </tr>\n",
              "  </tbody>\n",
              "</table>\n",
              "</div>\n",
              "      <button class=\"colab-df-convert\" onclick=\"convertToInteractive('df-9050aeee-7fa3-4bee-8d67-93f628e9b1f1')\"\n",
              "              title=\"Convert this dataframe to an interactive table.\"\n",
              "              style=\"display:none;\">\n",
              "        \n",
              "  <svg xmlns=\"http://www.w3.org/2000/svg\" height=\"24px\"viewBox=\"0 0 24 24\"\n",
              "       width=\"24px\">\n",
              "    <path d=\"M0 0h24v24H0V0z\" fill=\"none\"/>\n",
              "    <path d=\"M18.56 5.44l.94 2.06.94-2.06 2.06-.94-2.06-.94-.94-2.06-.94 2.06-2.06.94zm-11 1L8.5 8.5l.94-2.06 2.06-.94-2.06-.94L8.5 2.5l-.94 2.06-2.06.94zm10 10l.94 2.06.94-2.06 2.06-.94-2.06-.94-.94-2.06-.94 2.06-2.06.94z\"/><path d=\"M17.41 7.96l-1.37-1.37c-.4-.4-.92-.59-1.43-.59-.52 0-1.04.2-1.43.59L10.3 9.45l-7.72 7.72c-.78.78-.78 2.05 0 2.83L4 21.41c.39.39.9.59 1.41.59.51 0 1.02-.2 1.41-.59l7.78-7.78 2.81-2.81c.8-.78.8-2.07 0-2.86zM5.41 20L4 18.59l7.72-7.72 1.47 1.35L5.41 20z\"/>\n",
              "  </svg>\n",
              "      </button>\n",
              "      \n",
              "  <style>\n",
              "    .colab-df-container {\n",
              "      display:flex;\n",
              "      flex-wrap:wrap;\n",
              "      gap: 12px;\n",
              "    }\n",
              "\n",
              "    .colab-df-convert {\n",
              "      background-color: #E8F0FE;\n",
              "      border: none;\n",
              "      border-radius: 50%;\n",
              "      cursor: pointer;\n",
              "      display: none;\n",
              "      fill: #1967D2;\n",
              "      height: 32px;\n",
              "      padding: 0 0 0 0;\n",
              "      width: 32px;\n",
              "    }\n",
              "\n",
              "    .colab-df-convert:hover {\n",
              "      background-color: #E2EBFA;\n",
              "      box-shadow: 0px 1px 2px rgba(60, 64, 67, 0.3), 0px 1px 3px 1px rgba(60, 64, 67, 0.15);\n",
              "      fill: #174EA6;\n",
              "    }\n",
              "\n",
              "    [theme=dark] .colab-df-convert {\n",
              "      background-color: #3B4455;\n",
              "      fill: #D2E3FC;\n",
              "    }\n",
              "\n",
              "    [theme=dark] .colab-df-convert:hover {\n",
              "      background-color: #434B5C;\n",
              "      box-shadow: 0px 1px 3px 1px rgba(0, 0, 0, 0.15);\n",
              "      filter: drop-shadow(0px 1px 2px rgba(0, 0, 0, 0.3));\n",
              "      fill: #FFFFFF;\n",
              "    }\n",
              "  </style>\n",
              "\n",
              "      <script>\n",
              "        const buttonEl =\n",
              "          document.querySelector('#df-9050aeee-7fa3-4bee-8d67-93f628e9b1f1 button.colab-df-convert');\n",
              "        buttonEl.style.display =\n",
              "          google.colab.kernel.accessAllowed ? 'block' : 'none';\n",
              "\n",
              "        async function convertToInteractive(key) {\n",
              "          const element = document.querySelector('#df-9050aeee-7fa3-4bee-8d67-93f628e9b1f1');\n",
              "          const dataTable =\n",
              "            await google.colab.kernel.invokeFunction('convertToInteractive',\n",
              "                                                     [key], {});\n",
              "          if (!dataTable) return;\n",
              "\n",
              "          const docLinkHtml = 'Like what you see? Visit the ' +\n",
              "            '<a target=\"_blank\" href=https://colab.research.google.com/notebooks/data_table.ipynb>data table notebook</a>'\n",
              "            + ' to learn more about interactive tables.';\n",
              "          element.innerHTML = '';\n",
              "          dataTable['output_type'] = 'display_data';\n",
              "          await google.colab.output.renderOutput(dataTable, element);\n",
              "          const docLink = document.createElement('div');\n",
              "          docLink.innerHTML = docLinkHtml;\n",
              "          element.appendChild(docLink);\n",
              "        }\n",
              "      </script>\n",
              "    </div>\n",
              "  </div>\n",
              "  "
            ]
          },
          "metadata": {},
          "execution_count": 39
        }
      ]
    },
    {
      "cell_type": "code",
      "source": [
        "#Combining vectors of all BERT and w2v\n",
        "spam_df_final['BERT+w2v'] = spam_df_final['BERT_output_array'].apply(lambda x: x.tolist()) + spam_df_final['w2v_output'].apply(lambda x: x.tolist())"
      ],
      "metadata": {
        "id": "B75rhEluouTK"
      },
      "execution_count": 88,
      "outputs": []
    },
    {
      "cell_type": "code",
      "source": [
        "spam_df_final['BERT+w2v'] = spam_df_final['BERT+w2v'].map(lambda x: np.array(x))"
      ],
      "metadata": {
        "id": "BKulZYXgouQE"
      },
      "execution_count": 89,
      "outputs": []
    },
    {
      "cell_type": "code",
      "source": [
        "#Combining vectors of ALBERT and w2v\n",
        "spam_df_final['ALBERT+w2v'] = spam_df_final['ALBERT_output_array'].apply(lambda x: x.tolist()) + spam_df_final['w2v_output'].apply(lambda x: x.tolist())"
      ],
      "metadata": {
        "id": "YcLCG1kOsofP"
      },
      "execution_count": 93,
      "outputs": []
    },
    {
      "cell_type": "code",
      "source": [
        "spam_df_final['ALBERT+w2v'] = spam_df_final['ALBERT+w2v'].map(lambda x: np.array(x))"
      ],
      "metadata": {
        "id": "1pu-xXqxswvU"
      },
      "execution_count": 94,
      "outputs": []
    },
    {
      "cell_type": "code",
      "source": [
        "#Combining vectors of BERT and ALBERT\n",
        "spam_df_final['ALBERT+BERT'] = spam_df_final['ALBERT_output_array'].apply(lambda x: x.tolist()) + spam_df_final['BERT_output_array'].apply(lambda x: x.tolist())"
      ],
      "metadata": {
        "id": "a2B5KIgNs0rM"
      },
      "execution_count": 95,
      "outputs": []
    },
    {
      "cell_type": "code",
      "source": [
        "spam_df_final['ALBERT+BERT'] = spam_df_final['ALBERT+BERT'].map(lambda x: np.array(x))"
      ],
      "metadata": {
        "id": "BnARdYKas0gi"
      },
      "execution_count": 96,
      "outputs": []
    },
    {
      "cell_type": "code",
      "source": [
        "#Combining vectors of ALL Three\n",
        "spam_df_final['ALL'] = spam_df_final['ALBERT_output_array'].apply(lambda x: x.tolist()) + spam_df_final['BERT_output_array'].apply(lambda x: x.tolist()) + spam_df_final['w2v_output'].apply(lambda x: x.tolist())"
      ],
      "metadata": {
        "id": "RMtW4677tR6N"
      },
      "execution_count": 97,
      "outputs": []
    },
    {
      "cell_type": "code",
      "source": [
        "spam_df_final['ALL'] = spam_df_final['ALL'].map(lambda x: np.array(x))"
      ],
      "metadata": {
        "id": "vvY-dvIltRzO"
      },
      "execution_count": 98,
      "outputs": []
    },
    {
      "cell_type": "code",
      "source": [
        "spam_df_final.head()"
      ],
      "metadata": {
        "colab": {
          "base_uri": "https://localhost:8080/",
          "height": 583
        },
        "id": "PLsqjzuwtkLt",
        "outputId": "2c6cda05-7197-426b-d4da-b765f2effdba"
      },
      "execution_count": 99,
      "outputs": [
        {
          "output_type": "execute_result",
          "data": {
            "text/plain": [
              "      Unnamed: 0 label                                               text  \\\n",
              "1347        4423  spam  Subject: is your wife in pain\\r\\nstop the pain...   \n",
              "191         4619  spam  Subject: young sluts getting creamy facials fo...   \n",
              "3971        4789  spam  Subject: real - time alert for hot stock featu...   \n",
              "3961        5032  spam  Subject: craving for rolexes or omegas ?\\r\\nem...   \n",
              "4499        4239  spam  Subject: try cortizyte , a revolutionary weigh...   \n",
              "\n",
              "      label_num                                         clean_text  \\\n",
              "1347          1  Subject: is your wife in pain. stop the pain. ...   \n",
              "191           1  Subject: young sluts getting creamy facials fo...   \n",
              "3971          1  Subject: real - time alert for hot stock featu...   \n",
              "3961          1  Subject: craving for rolexes or omegas ?. empt...   \n",
              "4499          1  Subject: try cortizyte , a revolutionary weigh...   \n",
              "\n",
              "      text_length                                        BERT_output  \\\n",
              "1347          309  (tf.Tensor(-0.66220784, shape=(), dtype=float3...   \n",
              "191           144  (tf.Tensor(-0.62916726, shape=(), dtype=float3...   \n",
              "3971         4120  (tf.Tensor(-0.60679173, shape=(), dtype=float3...   \n",
              "3961         1660  (tf.Tensor(-0.5414106, shape=(), dtype=float32...   \n",
              "4499          559  (tf.Tensor(-0.7903552, shape=(), dtype=float32...   \n",
              "\n",
              "                                         text_w2v_input  \\\n",
              "1347  [subject, is, your, wife, in, pain, stop, the,...   \n",
              "191   [subject, young, sluts, getting, creamy, facia...   \n",
              "3971  [subject, real, time, alert, for, hot, stock, ...   \n",
              "3961  [subject, craving, for, rolexes, or, omegas, e...   \n",
              "4499  [subject, try, cortizyte, revolutionary, weigh...   \n",
              "\n",
              "                                             w2v_output  \\\n",
              "1347  [-0.7773241, -0.028775526, 0.23354693, 0.34879...   \n",
              "191   [-0.81515855, -0.042400777, 0.2503332, 0.38154...   \n",
              "3971  [-0.82275397, -0.026751796, 0.24303724, 0.3726...   \n",
              "3961  [-0.94489324, -0.028019296, 0.27957302, 0.4287...   \n",
              "4499  [-0.652256, -0.027082026, 0.1878234, 0.2854014...   \n",
              "\n",
              "                                      BERT_output_array  \\\n",
              "1347  [-0.66220784, -0.21042265, -0.69894105, 0.4461...   \n",
              "191   [-0.62916726, -0.43002403, -0.748989, 0.363675...   \n",
              "3971  [-0.60679173, -0.3678604, -0.77422667, 0.46082...   \n",
              "3961  [-0.5414106, -0.54300076, -0.9778723, 0.620954...   \n",
              "4499  [-0.7903552, -0.58141476, -0.9750504, 0.643725...   \n",
              "\n",
              "                                          ALBERT_output  \\\n",
              "1347  (tf.Tensor(0.53995717, shape=(), dtype=float32...   \n",
              "191   (tf.Tensor(0.6074936, shape=(), dtype=float32)...   \n",
              "3971  (tf.Tensor(0.7890521, shape=(), dtype=float32)...   \n",
              "3961  (tf.Tensor(0.4502093, shape=(), dtype=float32)...   \n",
              "4499  (tf.Tensor(0.629446, shape=(), dtype=float32),...   \n",
              "\n",
              "                                    ALBERT_output_array  \\\n",
              "1347  [0.53995717, -0.56981885, -0.98754895, -0.3067...   \n",
              "191   [0.6074936, -0.6763085, -0.96309423, 0.0338184...   \n",
              "3971  [0.7890521, -0.8926711, -0.98849905, -0.099861...   \n",
              "3961  [0.4502093, -0.5150742, -0.997151, -0.61924064...   \n",
              "4499  [0.629446, -0.73356396, -0.9876126, 0.06124072...   \n",
              "\n",
              "                                               BERT+w2v  \\\n",
              "1347  [-0.662207841873169, -0.21042264997959137, -0....   \n",
              "191   [-0.6291672587394714, -0.43002402782440186, -0...   \n",
              "3971  [-0.6067917346954346, -0.3678604066371918, -0....   \n",
              "3961  [-0.5414106249809265, -0.5430007576942444, -0....   \n",
              "4499  [-0.7903552055358887, -0.5814147591590881, -0....   \n",
              "\n",
              "                                             ALBERT+w2v  \\\n",
              "1347  [0.5399571657180786, -0.5698188543319702, -0.9...   \n",
              "191   [0.6074935793876648, -0.6763085126876831, -0.9...   \n",
              "3971  [0.7890521287918091, -0.8926711082458496, -0.9...   \n",
              "3961  [0.45020928978919983, -0.5150741934776306, -0....   \n",
              "4499  [0.6294460296630859, -0.7335639595985413, -0.9...   \n",
              "\n",
              "                                            ALBERT+BERT  \\\n",
              "1347  [0.5399571657180786, -0.5698188543319702, -0.9...   \n",
              "191   [0.6074935793876648, -0.6763085126876831, -0.9...   \n",
              "3971  [0.7890521287918091, -0.8926711082458496, -0.9...   \n",
              "3961  [0.45020928978919983, -0.5150741934776306, -0....   \n",
              "4499  [0.6294460296630859, -0.7335639595985413, -0.9...   \n",
              "\n",
              "                                                    ALL  \n",
              "1347  [0.5399571657180786, -0.5698188543319702, -0.9...  \n",
              "191   [0.6074935793876648, -0.6763085126876831, -0.9...  \n",
              "3971  [0.7890521287918091, -0.8926711082458496, -0.9...  \n",
              "3961  [0.45020928978919983, -0.5150741934776306, -0....  \n",
              "4499  [0.6294460296630859, -0.7335639595985413, -0.9...  "
            ],
            "text/html": [
              "\n",
              "  <div id=\"df-09c8132d-1fd5-43ad-b81e-ba303a5e2754\">\n",
              "    <div class=\"colab-df-container\">\n",
              "      <div>\n",
              "<style scoped>\n",
              "    .dataframe tbody tr th:only-of-type {\n",
              "        vertical-align: middle;\n",
              "    }\n",
              "\n",
              "    .dataframe tbody tr th {\n",
              "        vertical-align: top;\n",
              "    }\n",
              "\n",
              "    .dataframe thead th {\n",
              "        text-align: right;\n",
              "    }\n",
              "</style>\n",
              "<table border=\"1\" class=\"dataframe\">\n",
              "  <thead>\n",
              "    <tr style=\"text-align: right;\">\n",
              "      <th></th>\n",
              "      <th>Unnamed: 0</th>\n",
              "      <th>label</th>\n",
              "      <th>text</th>\n",
              "      <th>label_num</th>\n",
              "      <th>clean_text</th>\n",
              "      <th>text_length</th>\n",
              "      <th>BERT_output</th>\n",
              "      <th>text_w2v_input</th>\n",
              "      <th>w2v_output</th>\n",
              "      <th>BERT_output_array</th>\n",
              "      <th>ALBERT_output</th>\n",
              "      <th>ALBERT_output_array</th>\n",
              "      <th>BERT+w2v</th>\n",
              "      <th>ALBERT+w2v</th>\n",
              "      <th>ALBERT+BERT</th>\n",
              "      <th>ALL</th>\n",
              "    </tr>\n",
              "  </thead>\n",
              "  <tbody>\n",
              "    <tr>\n",
              "      <th>1347</th>\n",
              "      <td>4423</td>\n",
              "      <td>spam</td>\n",
              "      <td>Subject: is your wife in pain\\r\\nstop the pain...</td>\n",
              "      <td>1</td>\n",
              "      <td>Subject: is your wife in pain. stop the pain. ...</td>\n",
              "      <td>309</td>\n",
              "      <td>(tf.Tensor(-0.66220784, shape=(), dtype=float3...</td>\n",
              "      <td>[subject, is, your, wife, in, pain, stop, the,...</td>\n",
              "      <td>[-0.7773241, -0.028775526, 0.23354693, 0.34879...</td>\n",
              "      <td>[-0.66220784, -0.21042265, -0.69894105, 0.4461...</td>\n",
              "      <td>(tf.Tensor(0.53995717, shape=(), dtype=float32...</td>\n",
              "      <td>[0.53995717, -0.56981885, -0.98754895, -0.3067...</td>\n",
              "      <td>[-0.662207841873169, -0.21042264997959137, -0....</td>\n",
              "      <td>[0.5399571657180786, -0.5698188543319702, -0.9...</td>\n",
              "      <td>[0.5399571657180786, -0.5698188543319702, -0.9...</td>\n",
              "      <td>[0.5399571657180786, -0.5698188543319702, -0.9...</td>\n",
              "    </tr>\n",
              "    <tr>\n",
              "      <th>191</th>\n",
              "      <td>4619</td>\n",
              "      <td>spam</td>\n",
              "      <td>Subject: young sluts getting creamy facials fo...</td>\n",
              "      <td>1</td>\n",
              "      <td>Subject: young sluts getting creamy facials fo...</td>\n",
              "      <td>144</td>\n",
              "      <td>(tf.Tensor(-0.62916726, shape=(), dtype=float3...</td>\n",
              "      <td>[subject, young, sluts, getting, creamy, facia...</td>\n",
              "      <td>[-0.81515855, -0.042400777, 0.2503332, 0.38154...</td>\n",
              "      <td>[-0.62916726, -0.43002403, -0.748989, 0.363675...</td>\n",
              "      <td>(tf.Tensor(0.6074936, shape=(), dtype=float32)...</td>\n",
              "      <td>[0.6074936, -0.6763085, -0.96309423, 0.0338184...</td>\n",
              "      <td>[-0.6291672587394714, -0.43002402782440186, -0...</td>\n",
              "      <td>[0.6074935793876648, -0.6763085126876831, -0.9...</td>\n",
              "      <td>[0.6074935793876648, -0.6763085126876831, -0.9...</td>\n",
              "      <td>[0.6074935793876648, -0.6763085126876831, -0.9...</td>\n",
              "    </tr>\n",
              "    <tr>\n",
              "      <th>3971</th>\n",
              "      <td>4789</td>\n",
              "      <td>spam</td>\n",
              "      <td>Subject: real - time alert for hot stock featu...</td>\n",
              "      <td>1</td>\n",
              "      <td>Subject: real - time alert for hot stock featu...</td>\n",
              "      <td>4120</td>\n",
              "      <td>(tf.Tensor(-0.60679173, shape=(), dtype=float3...</td>\n",
              "      <td>[subject, real, time, alert, for, hot, stock, ...</td>\n",
              "      <td>[-0.82275397, -0.026751796, 0.24303724, 0.3726...</td>\n",
              "      <td>[-0.60679173, -0.3678604, -0.77422667, 0.46082...</td>\n",
              "      <td>(tf.Tensor(0.7890521, shape=(), dtype=float32)...</td>\n",
              "      <td>[0.7890521, -0.8926711, -0.98849905, -0.099861...</td>\n",
              "      <td>[-0.6067917346954346, -0.3678604066371918, -0....</td>\n",
              "      <td>[0.7890521287918091, -0.8926711082458496, -0.9...</td>\n",
              "      <td>[0.7890521287918091, -0.8926711082458496, -0.9...</td>\n",
              "      <td>[0.7890521287918091, -0.8926711082458496, -0.9...</td>\n",
              "    </tr>\n",
              "    <tr>\n",
              "      <th>3961</th>\n",
              "      <td>5032</td>\n",
              "      <td>spam</td>\n",
              "      <td>Subject: craving for rolexes or omegas ?\\r\\nem...</td>\n",
              "      <td>1</td>\n",
              "      <td>Subject: craving for rolexes or omegas ?. empt...</td>\n",
              "      <td>1660</td>\n",
              "      <td>(tf.Tensor(-0.5414106, shape=(), dtype=float32...</td>\n",
              "      <td>[subject, craving, for, rolexes, or, omegas, e...</td>\n",
              "      <td>[-0.94489324, -0.028019296, 0.27957302, 0.4287...</td>\n",
              "      <td>[-0.5414106, -0.54300076, -0.9778723, 0.620954...</td>\n",
              "      <td>(tf.Tensor(0.4502093, shape=(), dtype=float32)...</td>\n",
              "      <td>[0.4502093, -0.5150742, -0.997151, -0.61924064...</td>\n",
              "      <td>[-0.5414106249809265, -0.5430007576942444, -0....</td>\n",
              "      <td>[0.45020928978919983, -0.5150741934776306, -0....</td>\n",
              "      <td>[0.45020928978919983, -0.5150741934776306, -0....</td>\n",
              "      <td>[0.45020928978919983, -0.5150741934776306, -0....</td>\n",
              "    </tr>\n",
              "    <tr>\n",
              "      <th>4499</th>\n",
              "      <td>4239</td>\n",
              "      <td>spam</td>\n",
              "      <td>Subject: try cortizyte , a revolutionary weigh...</td>\n",
              "      <td>1</td>\n",
              "      <td>Subject: try cortizyte , a revolutionary weigh...</td>\n",
              "      <td>559</td>\n",
              "      <td>(tf.Tensor(-0.7903552, shape=(), dtype=float32...</td>\n",
              "      <td>[subject, try, cortizyte, revolutionary, weigh...</td>\n",
              "      <td>[-0.652256, -0.027082026, 0.1878234, 0.2854014...</td>\n",
              "      <td>[-0.7903552, -0.58141476, -0.9750504, 0.643725...</td>\n",
              "      <td>(tf.Tensor(0.629446, shape=(), dtype=float32),...</td>\n",
              "      <td>[0.629446, -0.73356396, -0.9876126, 0.06124072...</td>\n",
              "      <td>[-0.7903552055358887, -0.5814147591590881, -0....</td>\n",
              "      <td>[0.6294460296630859, -0.7335639595985413, -0.9...</td>\n",
              "      <td>[0.6294460296630859, -0.7335639595985413, -0.9...</td>\n",
              "      <td>[0.6294460296630859, -0.7335639595985413, -0.9...</td>\n",
              "    </tr>\n",
              "  </tbody>\n",
              "</table>\n",
              "</div>\n",
              "      <button class=\"colab-df-convert\" onclick=\"convertToInteractive('df-09c8132d-1fd5-43ad-b81e-ba303a5e2754')\"\n",
              "              title=\"Convert this dataframe to an interactive table.\"\n",
              "              style=\"display:none;\">\n",
              "        \n",
              "  <svg xmlns=\"http://www.w3.org/2000/svg\" height=\"24px\"viewBox=\"0 0 24 24\"\n",
              "       width=\"24px\">\n",
              "    <path d=\"M0 0h24v24H0V0z\" fill=\"none\"/>\n",
              "    <path d=\"M18.56 5.44l.94 2.06.94-2.06 2.06-.94-2.06-.94-.94-2.06-.94 2.06-2.06.94zm-11 1L8.5 8.5l.94-2.06 2.06-.94-2.06-.94L8.5 2.5l-.94 2.06-2.06.94zm10 10l.94 2.06.94-2.06 2.06-.94-2.06-.94-.94-2.06-.94 2.06-2.06.94z\"/><path d=\"M17.41 7.96l-1.37-1.37c-.4-.4-.92-.59-1.43-.59-.52 0-1.04.2-1.43.59L10.3 9.45l-7.72 7.72c-.78.78-.78 2.05 0 2.83L4 21.41c.39.39.9.59 1.41.59.51 0 1.02-.2 1.41-.59l7.78-7.78 2.81-2.81c.8-.78.8-2.07 0-2.86zM5.41 20L4 18.59l7.72-7.72 1.47 1.35L5.41 20z\"/>\n",
              "  </svg>\n",
              "      </button>\n",
              "      \n",
              "  <style>\n",
              "    .colab-df-container {\n",
              "      display:flex;\n",
              "      flex-wrap:wrap;\n",
              "      gap: 12px;\n",
              "    }\n",
              "\n",
              "    .colab-df-convert {\n",
              "      background-color: #E8F0FE;\n",
              "      border: none;\n",
              "      border-radius: 50%;\n",
              "      cursor: pointer;\n",
              "      display: none;\n",
              "      fill: #1967D2;\n",
              "      height: 32px;\n",
              "      padding: 0 0 0 0;\n",
              "      width: 32px;\n",
              "    }\n",
              "\n",
              "    .colab-df-convert:hover {\n",
              "      background-color: #E2EBFA;\n",
              "      box-shadow: 0px 1px 2px rgba(60, 64, 67, 0.3), 0px 1px 3px 1px rgba(60, 64, 67, 0.15);\n",
              "      fill: #174EA6;\n",
              "    }\n",
              "\n",
              "    [theme=dark] .colab-df-convert {\n",
              "      background-color: #3B4455;\n",
              "      fill: #D2E3FC;\n",
              "    }\n",
              "\n",
              "    [theme=dark] .colab-df-convert:hover {\n",
              "      background-color: #434B5C;\n",
              "      box-shadow: 0px 1px 3px 1px rgba(0, 0, 0, 0.15);\n",
              "      filter: drop-shadow(0px 1px 2px rgba(0, 0, 0, 0.3));\n",
              "      fill: #FFFFFF;\n",
              "    }\n",
              "  </style>\n",
              "\n",
              "      <script>\n",
              "        const buttonEl =\n",
              "          document.querySelector('#df-09c8132d-1fd5-43ad-b81e-ba303a5e2754 button.colab-df-convert');\n",
              "        buttonEl.style.display =\n",
              "          google.colab.kernel.accessAllowed ? 'block' : 'none';\n",
              "\n",
              "        async function convertToInteractive(key) {\n",
              "          const element = document.querySelector('#df-09c8132d-1fd5-43ad-b81e-ba303a5e2754');\n",
              "          const dataTable =\n",
              "            await google.colab.kernel.invokeFunction('convertToInteractive',\n",
              "                                                     [key], {});\n",
              "          if (!dataTable) return;\n",
              "\n",
              "          const docLinkHtml = 'Like what you see? Visit the ' +\n",
              "            '<a target=\"_blank\" href=https://colab.research.google.com/notebooks/data_table.ipynb>data table notebook</a>'\n",
              "            + ' to learn more about interactive tables.';\n",
              "          element.innerHTML = '';\n",
              "          dataTable['output_type'] = 'display_data';\n",
              "          await google.colab.output.renderOutput(dataTable, element);\n",
              "          const docLink = document.createElement('div');\n",
              "          docLink.innerHTML = docLinkHtml;\n",
              "          element.appendChild(docLink);\n",
              "        }\n",
              "      </script>\n",
              "    </div>\n",
              "  </div>\n",
              "  "
            ]
          },
          "metadata": {},
          "execution_count": 99
        }
      ]
    },
    {
      "cell_type": "code",
      "source": [
        "spam_df_final.iloc[0,13].size"
      ],
      "metadata": {
        "colab": {
          "base_uri": "https://localhost:8080/"
        },
        "id": "mE17GVr_uvt2",
        "outputId": "3e0da7e1-5346-44de-964b-6b6753ac9f3e"
      },
      "execution_count": 100,
      "outputs": [
        {
          "output_type": "execute_result",
          "data": {
            "text/plain": [
              "868"
            ]
          },
          "metadata": {},
          "execution_count": 100
        }
      ]
    },
    {
      "cell_type": "code",
      "source": [
        "spam_df_final.iloc[0,14].size"
      ],
      "metadata": {
        "colab": {
          "base_uri": "https://localhost:8080/"
        },
        "id": "EMFUPmIeu32C",
        "outputId": "49b986a6-0e8b-4424-b5ff-f82ebddfa797"
      },
      "execution_count": 101,
      "outputs": [
        {
          "output_type": "execute_result",
          "data": {
            "text/plain": [
              "1536"
            ]
          },
          "metadata": {},
          "execution_count": 101
        }
      ]
    },
    {
      "cell_type": "code",
      "source": [
        "spam_df_final.iloc[0,15].size"
      ],
      "metadata": {
        "colab": {
          "base_uri": "https://localhost:8080/"
        },
        "id": "tDvratNPu53T",
        "outputId": "3dbf0dcc-c6f0-4901-9048-6d1e0994c7c1"
      },
      "execution_count": 102,
      "outputs": [
        {
          "output_type": "execute_result",
          "data": {
            "text/plain": [
              "1636"
            ]
          },
          "metadata": {},
          "execution_count": 102
        }
      ]
    },
    {
      "cell_type": "code",
      "source": [
        "#splitting into test and train for w2v\n",
        "from sklearn.model_selection import train_test_split\n",
        "X_train, X_test, y_train, y_test = train_test_split (spam_df_final['w2v_output'], spam_df_final['label_num'],random_state = 3)"
      ],
      "metadata": {
        "id": "5jFmojenYezD"
      },
      "execution_count": 44,
      "outputs": []
    },
    {
      "cell_type": "code",
      "source": [
        "#Fitting a basic Random Forest model\n",
        "from sklearn.ensemble import RandomForestClassifier\n",
        "rf = RandomForestClassifier()\n",
        "rf_model = rf.fit(X_train.tolist(), y_train)"
      ],
      "metadata": {
        "id": "NUbLJXnMYpIw"
      },
      "execution_count": 56,
      "outputs": []
    },
    {
      "cell_type": "code",
      "source": [
        "#Making predictions on the test data \n",
        "y_pred = rf_model.predict(X_test.tolist())"
      ],
      "metadata": {
        "id": "T0uAVPLHeaFT"
      },
      "execution_count": 58,
      "outputs": []
    },
    {
      "cell_type": "code",
      "source": [
        "#Calculating precision, recall and accuracy\n",
        "from sklearn.metrics import precision_score, recall_score\n",
        "precision = precision_score(y_test, y_pred)\n",
        "recall = recall_score(y_test, y_pred)\n",
        "print('Precision: {} / Recall: {} / Accuracy: {}'.format(\n",
        "    round(precision, 3), round(recall, 3), round((y_pred==y_test).sum()/len(y_pred), 3)))\n"
      ],
      "metadata": {
        "colab": {
          "base_uri": "https://localhost:8080/"
        },
        "id": "xWCurpiYefB6",
        "outputId": "296570e1-aba9-4843-c64e-070f7415843d"
      },
      "execution_count": 59,
      "outputs": [
        {
          "output_type": "stream",
          "name": "stdout",
          "text": [
            "Precision: 0.818 / Recall: 0.761 / Accuracy: 0.768\n"
          ]
        }
      ]
    },
    {
      "cell_type": "code",
      "source": [
        "#Confusion matrix\n",
        "from sklearn.metrics import confusion_matrix, classification_report\n",
        "cm = confusion_matrix(y_test, y_pred)\n",
        "cm "
      ],
      "metadata": {
        "colab": {
          "base_uri": "https://localhost:8080/"
        },
        "id": "vOADKpU8fLcX",
        "outputId": "40e8aecd-ea7d-4cc2-f2f2-c2b3add586d6"
      },
      "execution_count": 60,
      "outputs": [
        {
          "output_type": "execute_result",
          "data": {
            "text/plain": [
              "array([[42, 12],\n",
              "       [17, 54]])"
            ]
          },
          "metadata": {},
          "execution_count": 60
        }
      ]
    },
    {
      "cell_type": "code",
      "source": [
        "#Heatmap\n",
        "from matplotlib import pyplot as plt\n",
        "import seaborn as sn\n",
        "sn.heatmap(cm, annot=True, fmt='d')\n",
        "plt.xlabel('Predicted')\n",
        "plt.ylabel('Truth')"
      ],
      "metadata": {
        "colab": {
          "base_uri": "https://localhost:8080/",
          "height": 297
        },
        "id": "VrWV5tQ9fM9g",
        "outputId": "7a3f92cf-4021-4e1b-80ae-e9fa3dbb2e08"
      },
      "execution_count": 61,
      "outputs": [
        {
          "output_type": "execute_result",
          "data": {
            "text/plain": [
              "Text(33.0, 0.5, 'Truth')"
            ]
          },
          "metadata": {},
          "execution_count": 61
        },
        {
          "output_type": "display_data",
          "data": {
            "text/plain": [
              "<Figure size 432x288 with 2 Axes>"
            ],
            "image/png": "[encoded data removed]"
          },
          "metadata": {
            "needs_background": "light"
          }
        }
      ]
    },
    {
      "cell_type": "code",
      "source": [
        "#Classification report\n",
        "print(classification_report(y_test, y_pred))"
      ],
      "metadata": {
        "colab": {
          "base_uri": "https://localhost:8080/"
        },
        "id": "ssrutDW3fSqj",
        "outputId": "00ed7f06-2581-46b2-ff36-cc35ee6bb696"
      },
      "execution_count": 62,
      "outputs": [
        {
          "output_type": "stream",
          "name": "stdout",
          "text": [
            "              precision    recall  f1-score   support\n",
            "\n",
            "           0       0.71      0.78      0.74        54\n",
            "           1       0.82      0.76      0.79        71\n",
            "\n",
            "    accuracy                           0.77       125\n",
            "   macro avg       0.77      0.77      0.77       125\n",
            "weighted avg       0.77      0.77      0.77       125\n",
            "\n"
          ]
        }
      ]
    },
    {
      "cell_type": "code",
      "source": [
        "#splitting into test and train for BERT\n",
        "from sklearn.model_selection import train_test_split\n",
        "X_train1, X_test1, y_train1, y_test1 = train_test_split (spam_df_final['BERT_output_array'], spam_df_final['label_num'],random_state = 3)"
      ],
      "metadata": {
        "id": "K8xZv2ICfTzv"
      },
      "execution_count": 63,
      "outputs": []
    },
    {
      "cell_type": "code",
      "source": [
        "#Fitting a basic Random Forest model\n",
        "from sklearn.ensemble import RandomForestClassifier\n",
        "rf1 = RandomForestClassifier()\n",
        "rf_model1 = rf1.fit(X_train1.tolist(), y_train1)"
      ],
      "metadata": {
        "id": "sJ08ZZ7Tfu3X"
      },
      "execution_count": 64,
      "outputs": []
    },
    {
      "cell_type": "code",
      "source": [
        "#Making predictions on the test data \n",
        "y_pred1 = rf_model1.predict(X_test1.tolist())"
      ],
      "metadata": {
        "id": "Of8YjiAff0no"
      },
      "execution_count": 65,
      "outputs": []
    },
    {
      "cell_type": "code",
      "source": [
        "#Calculating precision, recall and accuracy\n",
        "from sklearn.metrics import precision_score, recall_score\n",
        "precision1 = precision_score(y_test1, y_pred1)\n",
        "recall1 = recall_score(y_test1, y_pred1)\n",
        "print('Precision: {} / Recall: {} / Accuracy: {}'.format(\n",
        "    round(precision1, 3), round(recall1, 3), round((y_pred1==y_test1).sum()/len(y_pred1), 3)))"
      ],
      "metadata": {
        "colab": {
          "base_uri": "https://localhost:8080/"
        },
        "id": "HpVG6qfaf0lR",
        "outputId": "5631e243-1f7b-4574-d8d9-a935a0629c20"
      },
      "execution_count": 66,
      "outputs": [
        {
          "output_type": "stream",
          "name": "stdout",
          "text": [
            "Precision: 0.919 / Recall: 0.803 / Accuracy: 0.848\n"
          ]
        }
      ]
    },
    {
      "cell_type": "code",
      "source": [
        "#Confusion matrix\n",
        "from sklearn.metrics import confusion_matrix, classification_report\n",
        "cm1 = confusion_matrix(y_test1, y_pred1)\n",
        "cm1"
      ],
      "metadata": {
        "colab": {
          "base_uri": "https://localhost:8080/"
        },
        "id": "fpB5nv1-f0g_",
        "outputId": "79832f95-10c1-4de2-f80b-93167d5864c6"
      },
      "execution_count": 67,
      "outputs": [
        {
          "output_type": "execute_result",
          "data": {
            "text/plain": [
              "array([[49,  5],\n",
              "       [14, 57]])"
            ]
          },
          "metadata": {},
          "execution_count": 67
        }
      ]
    },
    {
      "cell_type": "code",
      "source": [
        "#Heatmap\n",
        "from matplotlib import pyplot as plt\n",
        "import seaborn as sn\n",
        "sn.heatmap(cm1, annot=True, fmt='d')\n",
        "plt.xlabel('Predicted')\n",
        "plt.ylabel('Truth')"
      ],
      "metadata": {
        "colab": {
          "base_uri": "https://localhost:8080/",
          "height": 297
        },
        "id": "QgUgD42MgJI4",
        "outputId": "4145679c-750c-4af8-aba8-391eee336662"
      },
      "execution_count": 68,
      "outputs": [
        {
          "output_type": "execute_result",
          "data": {
            "text/plain": [
              "Text(33.0, 0.5, 'Truth')"
            ]
          },
          "metadata": {},
          "execution_count": 68
        },
        {
          "output_type": "display_data",
          "data": {
            "text/plain": [
              "<Figure size 432x288 with 2 Axes>"
            ],
            "image/png": "[encoded data removed]"
          },
          "metadata": {
            "needs_background": "light"
          }
        }
      ]
    },
    {
      "cell_type": "code",
      "source": [
        "#Classification report\n",
        "print(classification_report(y_test1, y_pred1))"
      ],
      "metadata": {
        "colab": {
          "base_uri": "https://localhost:8080/"
        },
        "id": "MBoULPTOgP_F",
        "outputId": "85cd9872-ce9c-400f-f7fd-6d2402d7885b"
      },
      "execution_count": 69,
      "outputs": [
        {
          "output_type": "stream",
          "name": "stdout",
          "text": [
            "              precision    recall  f1-score   support\n",
            "\n",
            "           0       0.78      0.91      0.84        54\n",
            "           1       0.92      0.80      0.86        71\n",
            "\n",
            "    accuracy                           0.85       125\n",
            "   macro avg       0.85      0.86      0.85       125\n",
            "weighted avg       0.86      0.85      0.85       125\n",
            "\n"
          ]
        }
      ]
    },
    {
      "cell_type": "code",
      "source": [
        "#splitting into test and train for ALBERT\n",
        "from sklearn.model_selection import train_test_split\n",
        "X_train2, X_test2, y_train2, y_test2 = train_test_split (spam_df_final['ALBERT_output_array'], spam_df_final['label_num'],random_state = 3)"
      ],
      "metadata": {
        "id": "0oXfAMpGgP9d"
      },
      "execution_count": 70,
      "outputs": []
    },
    {
      "cell_type": "code",
      "source": [
        "#Fitting a basic Random Forest model\n",
        "from sklearn.ensemble import RandomForestClassifier\n",
        "rf2 = RandomForestClassifier()\n",
        "rf_model2 = rf2.fit(X_train2.tolist(), y_train2)"
      ],
      "metadata": {
        "id": "qnKhv7JMgP79"
      },
      "execution_count": 71,
      "outputs": []
    },
    {
      "cell_type": "code",
      "source": [
        "#Making predictions on the test data \n",
        "y_pred2 = rf_model2.predict(X_test2.tolist())"
      ],
      "metadata": {
        "id": "ykSZvMkEgP6F"
      },
      "execution_count": 72,
      "outputs": []
    },
    {
      "cell_type": "code",
      "source": [
        "#Calculating precision, recall and accuracy\n",
        "from sklearn.metrics import precision_score, recall_score\n",
        "precision2 = precision_score(y_test2, y_pred2)\n",
        "recall2 = recall_score(y_test2, y_pred2)\n",
        "print('Precision: {} / Recall: {} / Accuracy: {}'.format(\n",
        "    round(precision2, 3), round(recall2, 3), round((y_pred2==y_test2).sum()/len(y_pred2), 3)))"
      ],
      "metadata": {
        "colab": {
          "base_uri": "https://localhost:8080/"
        },
        "id": "6L19X3nTgP39",
        "outputId": "f0ca13a6-3c20-429a-bd67-61f1fd4adc3e"
      },
      "execution_count": 73,
      "outputs": [
        {
          "output_type": "stream",
          "name": "stdout",
          "text": [
            "Precision: 0.892 / Recall: 0.817 / Accuracy: 0.84\n"
          ]
        }
      ]
    },
    {
      "cell_type": "code",
      "source": [
        "#Confusion matrix\n",
        "from sklearn.metrics import confusion_matrix, classification_report\n",
        "cm2 = confusion_matrix(y_test2, y_pred2)\n",
        "cm2"
      ],
      "metadata": {
        "colab": {
          "base_uri": "https://localhost:8080/"
        },
        "id": "-21WMlrngP2W",
        "outputId": "db7f91a2-62b1-4188-8959-18efae820910"
      },
      "execution_count": 74,
      "outputs": [
        {
          "output_type": "execute_result",
          "data": {
            "text/plain": [
              "array([[47,  7],\n",
              "       [13, 58]])"
            ]
          },
          "metadata": {},
          "execution_count": 74
        }
      ]
    },
    {
      "cell_type": "code",
      "source": [
        "#Heatmap\n",
        "from matplotlib import pyplot as plt\n",
        "import seaborn as sn\n",
        "sn.heatmap(cm2, annot=True, fmt='d')\n",
        "plt.xlabel('Predicted')\n",
        "plt.ylabel('Truth')"
      ],
      "metadata": {
        "colab": {
          "base_uri": "https://localhost:8080/",
          "height": 297
        },
        "id": "4Bfg05ZRhHpK",
        "outputId": "5d41ee5d-22c1-45dc-ffc2-a95bbf5d00f9"
      },
      "execution_count": 75,
      "outputs": [
        {
          "output_type": "execute_result",
          "data": {
            "text/plain": [
              "Text(33.0, 0.5, 'Truth')"
            ]
          },
          "metadata": {},
          "execution_count": 75
        },
        {
          "output_type": "display_data",
          "data": {
            "text/plain": [
              "<Figure size 432x288 with 2 Axes>"
            ],
            "image/png": "[encoded data removed]"
          },
          "metadata": {
            "needs_background": "light"
          }
        }
      ]
    },
    {
      "cell_type": "code",
      "source": [
        "#Classification report\n",
        "print(classification_report(y_test2, y_pred2))"
      ],
      "metadata": {
        "colab": {
          "base_uri": "https://localhost:8080/"
        },
        "id": "DldNrZ7XhX59",
        "outputId": "bc6e6441-6e3b-4c75-f027-3e6c68025838"
      },
      "execution_count": 76,
      "outputs": [
        {
          "output_type": "stream",
          "name": "stdout",
          "text": [
            "              precision    recall  f1-score   support\n",
            "\n",
            "           0       0.78      0.87      0.82        54\n",
            "           1       0.89      0.82      0.85        71\n",
            "\n",
            "    accuracy                           0.84       125\n",
            "   macro avg       0.84      0.84      0.84       125\n",
            "weighted avg       0.85      0.84      0.84       125\n",
            "\n"
          ]
        }
      ]
    },
    {
      "cell_type": "code",
      "source": [
        "#Out of these emeddings, BERT performs the best for this task."
      ],
      "metadata": {
        "id": "58Gwl9-shZai"
      },
      "execution_count": 77,
      "outputs": []
    },
    {
      "cell_type": "code",
      "source": [
        "#splitting into test and train for BERT+w2v\n",
        "from sklearn.model_selection import train_test_split\n",
        "X_train3, X_test3, y_train3, y_test3 = train_test_split (spam_df_final['BERT+w2v'], spam_df_final['label_num'],random_state = 3)"
      ],
      "metadata": {
        "id": "ONh7Yy1fhtQx"
      },
      "execution_count": 103,
      "outputs": []
    },
    {
      "cell_type": "code",
      "source": [
        "#Fitting a basic Random Forest model\n",
        "from sklearn.ensemble import RandomForestClassifier\n",
        "rf3 = RandomForestClassifier()\n",
        "rf_model3 = rf3.fit(X_train3.tolist(), y_train3)"
      ],
      "metadata": {
        "id": "uf0Fy2oGvL8t"
      },
      "execution_count": 104,
      "outputs": []
    },
    {
      "cell_type": "code",
      "source": [
        "#Making predictions on the test data \n",
        "y_pred3 = rf_model3.predict(X_test3.tolist())"
      ],
      "metadata": {
        "id": "lHCjKCrOvL6x"
      },
      "execution_count": 105,
      "outputs": []
    },
    {
      "cell_type": "code",
      "source": [
        "#Calculating precision, recall and accuracy\n",
        "from sklearn.metrics import precision_score, recall_score\n",
        "precision3 = precision_score(y_test3, y_pred3)\n",
        "recall3 = recall_score(y_test3, y_pred3)\n",
        "print('Precision: {} / Recall: {} / Accuracy: {}'.format(\n",
        "    round(precision3, 3), round(recall3, 3), round((y_pred3==y_test3).sum()/len(y_pred3), 3)))"
      ],
      "metadata": {
        "colab": {
          "base_uri": "https://localhost:8080/"
        },
        "id": "f9RgvvxdvL4-",
        "outputId": "cd1a73a3-9372-4e1e-ddeb-a2d44313355c"
      },
      "execution_count": 106,
      "outputs": [
        {
          "output_type": "stream",
          "name": "stdout",
          "text": [
            "Precision: 0.838 / Recall: 0.803 / Accuracy: 0.8\n"
          ]
        }
      ]
    },
    {
      "cell_type": "code",
      "source": [
        "#Confusion matrix\n",
        "from sklearn.metrics import confusion_matrix, classification_report\n",
        "cm3 = confusion_matrix(y_test3, y_pred3)\n",
        "cm3"
      ],
      "metadata": {
        "colab": {
          "base_uri": "https://localhost:8080/"
        },
        "id": "KxivyozKvL29",
        "outputId": "8fd939ef-646c-4507-cca1-6dbddbcc8889"
      },
      "execution_count": 107,
      "outputs": [
        {
          "output_type": "execute_result",
          "data": {
            "text/plain": [
              "array([[43, 11],\n",
              "       [14, 57]])"
            ]
          },
          "metadata": {},
          "execution_count": 107
        }
      ]
    },
    {
      "cell_type": "code",
      "source": [
        "#Heatmap\n",
        "from matplotlib import pyplot as plt\n",
        "import seaborn as sn\n",
        "sn.heatmap(cm3, annot=True, fmt='d')\n",
        "plt.xlabel('Predicted')\n",
        "plt.ylabel('Truth')"
      ],
      "metadata": {
        "colab": {
          "base_uri": "https://localhost:8080/",
          "height": 297
        },
        "id": "8cP__CVAvL09",
        "outputId": "7f702d8c-0db3-4a80-8a9c-9af358776548"
      },
      "execution_count": 108,
      "outputs": [
        {
          "output_type": "execute_result",
          "data": {
            "text/plain": [
              "Text(33.0, 0.5, 'Truth')"
            ]
          },
          "metadata": {},
          "execution_count": 108
        },
        {
          "output_type": "display_data",
          "data": {
            "text/plain": [
              "<Figure size 432x288 with 2 Axes>"
            ],
            "image/png": "[encoded data removed]"
          },
          "metadata": {
            "needs_background": "light"
          }
        }
      ]
    },
    {
      "cell_type": "code",
      "source": [
        "#Classification report\n",
        "print(classification_report(y_test3, y_pred3))"
      ],
      "metadata": {
        "colab": {
          "base_uri": "https://localhost:8080/"
        },
        "id": "6ffip0MWvLzE",
        "outputId": "fe70975b-29f4-471e-cdd0-87a0d9695e8f"
      },
      "execution_count": 109,
      "outputs": [
        {
          "output_type": "stream",
          "name": "stdout",
          "text": [
            "              precision    recall  f1-score   support\n",
            "\n",
            "           0       0.75      0.80      0.77        54\n",
            "           1       0.84      0.80      0.82        71\n",
            "\n",
            "    accuracy                           0.80       125\n",
            "   macro avg       0.80      0.80      0.80       125\n",
            "weighted avg       0.80      0.80      0.80       125\n",
            "\n"
          ]
        }
      ]
    },
    {
      "cell_type": "code",
      "source": [
        "#splitting into test and train for BERT+w2v\n",
        "from sklearn.model_selection import train_test_split\n",
        "X_train4, X_test4, y_train4, y_test4 = train_test_split (spam_df_final['ALBERT+w2v'], spam_df_final['label_num'],random_state = 3)"
      ],
      "metadata": {
        "id": "A5BnRJ-LvLxD"
      },
      "execution_count": 110,
      "outputs": []
    },
    {
      "cell_type": "code",
      "source": [
        "#Fitting a basic Random Forest model\n",
        "from sklearn.ensemble import RandomForestClassifier\n",
        "rf4 = RandomForestClassifier()\n",
        "rf_model4 = rf4.fit(X_train4.tolist(), y_train4)"
      ],
      "metadata": {
        "id": "pQucIM72vLul"
      },
      "execution_count": 111,
      "outputs": []
    },
    {
      "cell_type": "code",
      "source": [
        "#Making predictions on the test data \n",
        "y_pred4 = rf_model4.predict(X_test4.tolist())"
      ],
      "metadata": {
        "id": "hG-I8p0bv_r6"
      },
      "execution_count": 112,
      "outputs": []
    },
    {
      "cell_type": "code",
      "source": [
        "#Calculating precision, recall and accuracy\n",
        "from sklearn.metrics import precision_score, recall_score\n",
        "precision4 = precision_score(y_test4, y_pred4)\n",
        "recall4 = recall_score(y_test4, y_pred4)\n",
        "print('Precision: {} / Recall: {} / Accuracy: {}'.format(\n",
        "    round(precision4, 3), round(recall4, 3), round((y_pred4==y_test4).sum()/len(y_pred4), 3)))"
      ],
      "metadata": {
        "colab": {
          "base_uri": "https://localhost:8080/"
        },
        "id": "ybgXm2HYv_qK",
        "outputId": "3535130d-ee60-427f-ae1a-4d93b20f523f"
      },
      "execution_count": 113,
      "outputs": [
        {
          "output_type": "stream",
          "name": "stdout",
          "text": [
            "Precision: 0.862 / Recall: 0.789 / Accuracy: 0.808\n"
          ]
        }
      ]
    },
    {
      "cell_type": "code",
      "source": [
        "#Confusion matrix\n",
        "from sklearn.metrics import confusion_matrix, classification_report\n",
        "cm4 = confusion_matrix(y_test4, y_pred4)\n",
        "cm4"
      ],
      "metadata": {
        "colab": {
          "base_uri": "https://localhost:8080/"
        },
        "id": "2eTlrOqev_nl",
        "outputId": "6d4f170f-412a-4a24-fbf2-f7ad67424f5a"
      },
      "execution_count": 114,
      "outputs": [
        {
          "output_type": "execute_result",
          "data": {
            "text/plain": [
              "array([[45,  9],\n",
              "       [15, 56]])"
            ]
          },
          "metadata": {},
          "execution_count": 114
        }
      ]
    },
    {
      "cell_type": "code",
      "source": [
        "#Heatmap\n",
        "from matplotlib import pyplot as plt\n",
        "import seaborn as sn\n",
        "sn.heatmap(cm4, annot=True, fmt='d')\n",
        "plt.xlabel('Predicted')\n",
        "plt.ylabel('Truth')"
      ],
      "metadata": {
        "colab": {
          "base_uri": "https://localhost:8080/",
          "height": 297
        },
        "id": "TTJ6_Wwnv_k9",
        "outputId": "f554bef4-c802-4ef3-f408-bd259aa3082c"
      },
      "execution_count": 115,
      "outputs": [
        {
          "output_type": "execute_result",
          "data": {
            "text/plain": [
              "Text(33.0, 0.5, 'Truth')"
            ]
          },
          "metadata": {},
          "execution_count": 115
        },
        {
          "output_type": "display_data",
          "data": {
            "text/plain": [
              "<Figure size 432x288 with 2 Axes>"
            ],
            "image/png": "[encoded data removed]"
          },
          "metadata": {
            "needs_background": "light"
          }
        }
      ]
    },
    {
      "cell_type": "code",
      "source": [
        "#Classification report\n",
        "print(classification_report(y_test4, y_pred4))"
      ],
      "metadata": {
        "colab": {
          "base_uri": "https://localhost:8080/"
        },
        "id": "1bbXeaV6v_e1",
        "outputId": "d2e4ba69-dad0-4128-a637-b329ae9b9d81"
      },
      "execution_count": 116,
      "outputs": [
        {
          "output_type": "stream",
          "name": "stdout",
          "text": [
            "              precision    recall  f1-score   support\n",
            "\n",
            "           0       0.75      0.83      0.79        54\n",
            "           1       0.86      0.79      0.82        71\n",
            "\n",
            "    accuracy                           0.81       125\n",
            "   macro avg       0.81      0.81      0.81       125\n",
            "weighted avg       0.81      0.81      0.81       125\n",
            "\n"
          ]
        }
      ]
    },
    {
      "cell_type": "code",
      "source": [
        "#splitting into test and train for ALBERT+BERT\n",
        "from sklearn.model_selection import train_test_split\n",
        "X_train5, X_test5, y_train5, y_test5 = train_test_split (spam_df_final['ALBERT+BERT'], spam_df_final['label_num'],random_state = 3)"
      ],
      "metadata": {
        "id": "Vd9PPd_ywYpz"
      },
      "execution_count": 118,
      "outputs": []
    },
    {
      "cell_type": "code",
      "source": [
        "#Fitting a basic Random Forest model\n",
        "from sklearn.ensemble import RandomForestClassifier\n",
        "rf5 = RandomForestClassifier()\n",
        "rf_model5 = rf5.fit(X_train5.tolist(), y_train5)"
      ],
      "metadata": {
        "id": "jhEB7iqfwYnz"
      },
      "execution_count": 119,
      "outputs": []
    },
    {
      "cell_type": "code",
      "source": [
        "#Making predictions on the test data \n",
        "y_pred5 = rf_model5.predict(X_test5.tolist())"
      ],
      "metadata": {
        "id": "zI-aIZwRwYly"
      },
      "execution_count": 120,
      "outputs": []
    },
    {
      "cell_type": "code",
      "source": [
        "#Calculating precision, recall and accuracy\n",
        "from sklearn.metrics import precision_score, recall_score\n",
        "precision5 = precision_score(y_test5, y_pred5)\n",
        "recall5 = recall_score(y_test5, y_pred5)\n",
        "print('Precision: {} / Recall: {} / Accuracy: {}'.format(\n",
        "    round(precision5, 3), round(recall5, 3), round((y_pred5==y_test5).sum()/len(y_pred5), 3)))"
      ],
      "metadata": {
        "colab": {
          "base_uri": "https://localhost:8080/"
        },
        "id": "-eKXs3s4wYj6",
        "outputId": "b0fed79b-bf06-4a12-a446-c6b635e7852e"
      },
      "execution_count": 121,
      "outputs": [
        {
          "output_type": "stream",
          "name": "stdout",
          "text": [
            "Precision: 0.906 / Recall: 0.817 / Accuracy: 0.848\n"
          ]
        }
      ]
    },
    {
      "cell_type": "code",
      "source": [
        "#Confusion matrix\n",
        "from sklearn.metrics import confusion_matrix, classification_report\n",
        "cm5 = confusion_matrix(y_test5, y_pred5)\n",
        "cm5"
      ],
      "metadata": {
        "colab": {
          "base_uri": "https://localhost:8080/"
        },
        "id": "k9Pyef9bwYh6",
        "outputId": "c26affbc-31a9-4166-fa29-a5c5ae4795af"
      },
      "execution_count": 122,
      "outputs": [
        {
          "output_type": "execute_result",
          "data": {
            "text/plain": [
              "array([[48,  6],\n",
              "       [13, 58]])"
            ]
          },
          "metadata": {},
          "execution_count": 122
        }
      ]
    },
    {
      "cell_type": "code",
      "source": [
        "#Heatmap\n",
        "from matplotlib import pyplot as plt\n",
        "import seaborn as sn\n",
        "sn.heatmap(cm5, annot=True, fmt='d')\n",
        "plt.xlabel('Predicted')\n",
        "plt.ylabel('Truth')"
      ],
      "metadata": {
        "colab": {
          "base_uri": "https://localhost:8080/",
          "height": 297
        },
        "id": "C_S7yfjAwYeb",
        "outputId": "376ca9ac-5321-46a9-f9fd-9fb6c930bee9"
      },
      "execution_count": 123,
      "outputs": [
        {
          "output_type": "execute_result",
          "data": {
            "text/plain": [
              "Text(33.0, 0.5, 'Truth')"
            ]
          },
          "metadata": {},
          "execution_count": 123
        },
        {
          "output_type": "display_data",
          "data": {
            "text/plain": [
              "<Figure size 432x288 with 2 Axes>"
            ],
            "image/png": "[encoded data removed]"
          },
          "metadata": {
            "needs_background": "light"
          }
        }
      ]
    },
    {
      "cell_type": "code",
      "source": [
        "#Classification report\n",
        "print(classification_report(y_test5, y_pred5))"
      ],
      "metadata": {
        "colab": {
          "base_uri": "https://localhost:8080/"
        },
        "id": "dCFeVHLJwYcF",
        "outputId": "5fbbea94-c20c-4331-fdaa-a695fc32afe2"
      },
      "execution_count": 124,
      "outputs": [
        {
          "output_type": "stream",
          "name": "stdout",
          "text": [
            "              precision    recall  f1-score   support\n",
            "\n",
            "           0       0.79      0.89      0.83        54\n",
            "           1       0.91      0.82      0.86        71\n",
            "\n",
            "    accuracy                           0.85       125\n",
            "   macro avg       0.85      0.85      0.85       125\n",
            "weighted avg       0.85      0.85      0.85       125\n",
            "\n"
          ]
        }
      ]
    },
    {
      "cell_type": "code",
      "source": [
        "#splitting into test and train for ALBERT+BERT\n",
        "from sklearn.model_selection import train_test_split\n",
        "X_train6, X_test6, y_train6, y_test6 = train_test_split (spam_df_final['ALL'], spam_df_final['label_num'],random_state = 3)"
      ],
      "metadata": {
        "id": "XWqIy8RrxUPM"
      },
      "execution_count": 125,
      "outputs": []
    },
    {
      "cell_type": "code",
      "source": [
        "#Fitting a basic Random Forest model\n",
        "from sklearn.ensemble import RandomForestClassifier\n",
        "rf6 = RandomForestClassifier()\n",
        "rf_model6 = rf6.fit(X_train6.tolist(), y_train6)"
      ],
      "metadata": {
        "id": "yXY6BNDCxUNU"
      },
      "execution_count": 126,
      "outputs": []
    },
    {
      "cell_type": "code",
      "source": [
        "#Making predictions on the test data \n",
        "y_pred6 = rf_model6.predict(X_test6.tolist())"
      ],
      "metadata": {
        "id": "5zk6ZsOKxULf"
      },
      "execution_count": 127,
      "outputs": []
    },
    {
      "cell_type": "code",
      "source": [
        "#Calculating precision, recall and accuracy\n",
        "from sklearn.metrics import precision_score, recall_score\n",
        "precision6 = precision_score(y_test6, y_pred6)\n",
        "recall6 = recall_score(y_test6, y_pred6)\n",
        "print('Precision: {} / Recall: {} / Accuracy: {}'.format(\n",
        "    round(precision6, 3), round(recall6, 3), round((y_pred6==y_test6).sum()/len(y_pred6), 3)))"
      ],
      "metadata": {
        "colab": {
          "base_uri": "https://localhost:8080/"
        },
        "id": "Kn_5_ZIPxUIV",
        "outputId": "16a83c7f-bbbc-4fe5-a02f-5ca096acb9d6"
      },
      "execution_count": 128,
      "outputs": [
        {
          "output_type": "stream",
          "name": "stdout",
          "text": [
            "Precision: 0.839 / Recall: 0.732 / Accuracy: 0.768\n"
          ]
        }
      ]
    },
    {
      "cell_type": "code",
      "source": [
        "#Confusion matrix\n",
        "from sklearn.metrics import confusion_matrix, classification_report\n",
        "cm6 = confusion_matrix(y_test6, y_pred6)\n",
        "cm6"
      ],
      "metadata": {
        "colab": {
          "base_uri": "https://localhost:8080/"
        },
        "id": "vlTZTZv9xUFE",
        "outputId": "0b73aabf-8ab3-4ad8-b57e-062a4dc5b934"
      },
      "execution_count": 129,
      "outputs": [
        {
          "output_type": "execute_result",
          "data": {
            "text/plain": [
              "array([[44, 10],\n",
              "       [19, 52]])"
            ]
          },
          "metadata": {},
          "execution_count": 129
        }
      ]
    },
    {
      "cell_type": "code",
      "source": [
        "#Heatmap\n",
        "from matplotlib import pyplot as plt\n",
        "import seaborn as sn\n",
        "sn.heatmap(cm6, annot=True, fmt='d')\n",
        "plt.xlabel('Predicted')\n",
        "plt.ylabel('Truth')"
      ],
      "metadata": {
        "colab": {
          "base_uri": "https://localhost:8080/",
          "height": 297
        },
        "id": "MJm19QTZyMxt",
        "outputId": "02407c4e-08c9-4318-9189-045b591cd809"
      },
      "execution_count": 131,
      "outputs": [
        {
          "output_type": "execute_result",
          "data": {
            "text/plain": [
              "Text(33.0, 0.5, 'Truth')"
            ]
          },
          "metadata": {},
          "execution_count": 131
        },
        {
          "output_type": "display_data",
          "data": {
            "text/plain": [
              "<Figure size 432x288 with 2 Axes>"
            ],
            "image/png": "[encoded data removed]"
          },
          "metadata": {
            "needs_background": "light"
          }
        }
      ]
    },
    {
      "cell_type": "code",
      "source": [
        "#Classification report\n",
        "print(classification_report(y_test6, y_pred6))"
      ],
      "metadata": {
        "colab": {
          "base_uri": "https://localhost:8080/"
        },
        "id": "IQb1HcWqyHyN",
        "outputId": "21ad4539-448c-48ec-e2b4-e873fe11beab"
      },
      "execution_count": 130,
      "outputs": [
        {
          "output_type": "stream",
          "name": "stdout",
          "text": [
            "              precision    recall  f1-score   support\n",
            "\n",
            "           0       0.70      0.81      0.75        54\n",
            "           1       0.84      0.73      0.78        71\n",
            "\n",
            "    accuracy                           0.77       125\n",
            "   macro avg       0.77      0.77      0.77       125\n",
            "weighted avg       0.78      0.77      0.77       125\n",
            "\n"
          ]
        }
      ]
    },
    {
      "cell_type": "code",
      "source": [
        "#Creating a dataframe out of all the evaluation metrics\n",
        "data = {\"Embedding\":['Word2Vec','BERT','ALBERT','BERT+w2v','ALBERT+w2v','ALBERT+BERT','ALL Combined'],\n",
        "        'Accuracy':[round((y_pred==y_test).sum()/len(y_pred), 3),round((y_pred1==y_test1).sum()/len(y_pred1), 3),round((y_pred2==y_test2).sum()/len(y_pred2), 3),\n",
        "         round((y_pred3==y_test3).sum()/len(y_pred3), 3),round((y_pred4==y_test4).sum()/len(y_pred4), 3),round((y_pred5==y_test5).sum()/len(y_pred5), 3),\n",
        "         round((y_pred6==y_test6).sum()/len(y_pred6), 3)],\n",
        "        'precision':[round(precision, 3),round(precision1, 3),round(precision2, 3),round(precision3, 3),round(precision4, 3),round(precision5, 3),\n",
        "         round(precision6, 3)],\n",
        "        'recall':[round(recall, 3),round(recall1, 3),round(recall2, 3),round(recall3, 3),round(recall4, 3),round(recall5, 3),round(recall6, 3)]}\n",
        "metrics_df = pd.DataFrame(data)  \n",
        "metrics_df     "
      ],
      "metadata": {
        "colab": {
          "base_uri": "https://localhost:8080/",
          "height": 269
        },
        "id": "skXTY2oH3IF3",
        "outputId": "fa5b6496-ad63-4a2f-8372-8eb94b353995"
      },
      "execution_count": 149,
      "outputs": [
        {
          "output_type": "execute_result",
          "data": {
            "text/plain": [
              "      Embedding  Accuracy  precision  recall\n",
              "0      Word2Vec     0.768      0.818   0.761\n",
              "1          BERT     0.848      0.919   0.803\n",
              "2        ALBERT     0.840      0.892   0.817\n",
              "3      BERT+w2v     0.800      0.838   0.803\n",
              "4    ALBERT+w2v     0.808      0.862   0.789\n",
              "5   ALBERT+BERT     0.848      0.906   0.817\n",
              "6  ALL Combined     0.768      0.839   0.732"
            ],
            "text/html": [
              "\n",
              "  <div id=\"df-189571d2-6ab9-42fd-b518-9321f9f1421c\">\n",
              "    <div class=\"colab-df-container\">\n",
              "      <div>\n",
              "<style scoped>\n",
              "    .dataframe tbody tr th:only-of-type {\n",
              "        vertical-align: middle;\n",
              "    }\n",
              "\n",
              "    .dataframe tbody tr th {\n",
              "        vertical-align: top;\n",
              "    }\n",
              "\n",
              "    .dataframe thead th {\n",
              "        text-align: right;\n",
              "    }\n",
              "</style>\n",
              "<table border=\"1\" class=\"dataframe\">\n",
              "  <thead>\n",
              "    <tr style=\"text-align: right;\">\n",
              "      <th></th>\n",
              "      <th>Embedding</th>\n",
              "      <th>Accuracy</th>\n",
              "      <th>precision</th>\n",
              "      <th>recall</th>\n",
              "    </tr>\n",
              "  </thead>\n",
              "  <tbody>\n",
              "    <tr>\n",
              "      <th>0</th>\n",
              "      <td>Word2Vec</td>\n",
              "      <td>0.768</td>\n",
              "      <td>0.818</td>\n",
              "      <td>0.761</td>\n",
              "    </tr>\n",
              "    <tr>\n",
              "      <th>1</th>\n",
              "      <td>BERT</td>\n",
              "      <td>0.848</td>\n",
              "      <td>0.919</td>\n",
              "      <td>0.803</td>\n",
              "    </tr>\n",
              "    <tr>\n",
              "      <th>2</th>\n",
              "      <td>ALBERT</td>\n",
              "      <td>0.840</td>\n",
              "      <td>0.892</td>\n",
              "      <td>0.817</td>\n",
              "    </tr>\n",
              "    <tr>\n",
              "      <th>3</th>\n",
              "      <td>BERT+w2v</td>\n",
              "      <td>0.800</td>\n",
              "      <td>0.838</td>\n",
              "      <td>0.803</td>\n",
              "    </tr>\n",
              "    <tr>\n",
              "      <th>4</th>\n",
              "      <td>ALBERT+w2v</td>\n",
              "      <td>0.808</td>\n",
              "      <td>0.862</td>\n",
              "      <td>0.789</td>\n",
              "    </tr>\n",
              "    <tr>\n",
              "      <th>5</th>\n",
              "      <td>ALBERT+BERT</td>\n",
              "      <td>0.848</td>\n",
              "      <td>0.906</td>\n",
              "      <td>0.817</td>\n",
              "    </tr>\n",
              "    <tr>\n",
              "      <th>6</th>\n",
              "      <td>ALL Combined</td>\n",
              "      <td>0.768</td>\n",
              "      <td>0.839</td>\n",
              "      <td>0.732</td>\n",
              "    </tr>\n",
              "  </tbody>\n",
              "</table>\n",
              "</div>\n",
              "      <button class=\"colab-df-convert\" onclick=\"convertToInteractive('df-189571d2-6ab9-42fd-b518-9321f9f1421c')\"\n",
              "              title=\"Convert this dataframe to an interactive table.\"\n",
              "              style=\"display:none;\">\n",
              "        \n",
              "  <svg xmlns=\"http://www.w3.org/2000/svg\" height=\"24px\"viewBox=\"0 0 24 24\"\n",
              "       width=\"24px\">\n",
              "    <path d=\"M0 0h24v24H0V0z\" fill=\"none\"/>\n",
              "    <path d=\"M18.56 5.44l.94 2.06.94-2.06 2.06-.94-2.06-.94-.94-2.06-.94 2.06-2.06.94zm-11 1L8.5 8.5l.94-2.06 2.06-.94-2.06-.94L8.5 2.5l-.94 2.06-2.06.94zm10 10l.94 2.06.94-2.06 2.06-.94-2.06-.94-.94-2.06-.94 2.06-2.06.94z\"/><path d=\"M17.41 7.96l-1.37-1.37c-.4-.4-.92-.59-1.43-.59-.52 0-1.04.2-1.43.59L10.3 9.45l-7.72 7.72c-.78.78-.78 2.05 0 2.83L4 21.41c.39.39.9.59 1.41.59.51 0 1.02-.2 1.41-.59l7.78-7.78 2.81-2.81c.8-.78.8-2.07 0-2.86zM5.41 20L4 18.59l7.72-7.72 1.47 1.35L5.41 20z\"/>\n",
              "  </svg>\n",
              "      </button>\n",
              "      \n",
              "  <style>\n",
              "    .colab-df-container {\n",
              "      display:flex;\n",
              "      flex-wrap:wrap;\n",
              "      gap: 12px;\n",
              "    }\n",
              "\n",
              "    .colab-df-convert {\n",
              "      background-color: #E8F0FE;\n",
              "      border: none;\n",
              "      border-radius: 50%;\n",
              "      cursor: pointer;\n",
              "      display: none;\n",
              "      fill: #1967D2;\n",
              "      height: 32px;\n",
              "      padding: 0 0 0 0;\n",
              "      width: 32px;\n",
              "    }\n",
              "\n",
              "    .colab-df-convert:hover {\n",
              "      background-color: #E2EBFA;\n",
              "      box-shadow: 0px 1px 2px rgba(60, 64, 67, 0.3), 0px 1px 3px 1px rgba(60, 64, 67, 0.15);\n",
              "      fill: #174EA6;\n",
              "    }\n",
              "\n",
              "    [theme=dark] .colab-df-convert {\n",
              "      background-color: #3B4455;\n",
              "      fill: #D2E3FC;\n",
              "    }\n",
              "\n",
              "    [theme=dark] .colab-df-convert:hover {\n",
              "      background-color: #434B5C;\n",
              "      box-shadow: 0px 1px 3px 1px rgba(0, 0, 0, 0.15);\n",
              "      filter: drop-shadow(0px 1px 2px rgba(0, 0, 0, 0.3));\n",
              "      fill: #FFFFFF;\n",
              "    }\n",
              "  </style>\n",
              "\n",
              "      <script>\n",
              "        const buttonEl =\n",
              "          document.querySelector('#df-189571d2-6ab9-42fd-b518-9321f9f1421c button.colab-df-convert');\n",
              "        buttonEl.style.display =\n",
              "          google.colab.kernel.accessAllowed ? 'block' : 'none';\n",
              "\n",
              "        async function convertToInteractive(key) {\n",
              "          const element = document.querySelector('#df-189571d2-6ab9-42fd-b518-9321f9f1421c');\n",
              "          const dataTable =\n",
              "            await google.colab.kernel.invokeFunction('convertToInteractive',\n",
              "                                                     [key], {});\n",
              "          if (!dataTable) return;\n",
              "\n",
              "          const docLinkHtml = 'Like what you see? Visit the ' +\n",
              "            '<a target=\"_blank\" href=https://colab.research.google.com/notebooks/data_table.ipynb>data table notebook</a>'\n",
              "            + ' to learn more about interactive tables.';\n",
              "          element.innerHTML = '';\n",
              "          dataTable['output_type'] = 'display_data';\n",
              "          await google.colab.output.renderOutput(dataTable, element);\n",
              "          const docLink = document.createElement('div');\n",
              "          docLink.innerHTML = docLinkHtml;\n",
              "          element.appendChild(docLink);\n",
              "        }\n",
              "      </script>\n",
              "    </div>\n",
              "  </div>\n",
              "  "
            ]
          },
          "metadata": {},
          "execution_count": 149
        }
      ]
    },
    {
      "cell_type": "code",
      "source": [
        "import matplotlib.pyplot as plt\n",
        "   \n",
        "Embedding = metrics_df['Embedding']\n",
        "Accuracy = metrics_df['Accuracy']\n",
        "precision = metrics_df['precision']\n",
        "recall = metrics_df['recall']\n",
        "plt.figure(figsize=(12,8))  \n",
        "plt.plot(Embedding, Accuracy, marker='o',label = \"Accuracy\")\n",
        "plt.plot(Embedding, precision, marker='o', label = \"precision\")\n",
        "plt.plot(Embedding, recall, marker='o', label = \"recall\")\n",
        "plt.title('Accuracy of various embeddings')\n",
        "plt.xlabel('Embeddings')\n",
        "plt.ylabel('metric')\n",
        "plt.grid(True)\n",
        "plt.legend()\n",
        "plt.show()"
      ],
      "metadata": {
        "colab": {
          "base_uri": "https://localhost:8080/",
          "height": 513
        },
        "id": "7tSwbRn24AnD",
        "outputId": "cee1846e-98f5-4993-be50-3c62e15672b6"
      },
      "execution_count": 158,
      "outputs": [
        {
          "output_type": "display_data",
          "data": {
            "text/plain": [
              "<Figure size 864x576 with 1 Axes>"
            ],
            "image/png": "[encoded data removed]"
          },
          "metadata": {
            "needs_background": "light"
          }
        }
      ]
    },
    {
      "cell_type": "code",
      "source": [
        "#We can see that using BERT and ALBERT together gives us meaningful results. Using Albert along with BERT increases recall.\n",
        "#BERT - contributes towards precision\n",
        "#ALBERT - contributes towards recall\n",
        "#Other combinations are not that successful"
      ],
      "metadata": {
        "id": "WqkBqo3_6tAr"
      },
      "execution_count": 159,
      "outputs": []
    },
    {
      "cell_type": "code",
      "source": [
        ""
      ],
      "metadata": {
        "id": "4gSOwRkr8ST_"
      },
      "execution_count": null,
      "outputs": []
    }
  ]
}